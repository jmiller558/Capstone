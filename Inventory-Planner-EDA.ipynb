{
 "cells": [
  {
   "cell_type": "markdown",
   "id": "b6caae57",
   "metadata": {},
   "source": [
    "# 1. Import libraries & setup"
   ]
  },
  {
   "cell_type": "code",
   "execution_count": 275,
   "id": "e55f7fe9",
   "metadata": {},
   "outputs": [
    {
     "name": "stdout",
     "output_type": "stream",
     "text": [
      "Python 3.8.3\r\n"
     ]
    }
   ],
   "source": [
    "!python --version\n",
    "\n",
    "import numpy as np\n",
    "import pandas as pd \n",
    "import matplotlib.pyplot as plt\n",
    "import seaborn as sns\n",
    "\n",
    "from itertools import cycle\n",
    "\n",
    "pd.set_option('max_columns', 50)\n",
    "plt.style.use('bmh')\n",
    "color_pal=plt.rcParams['axes.prop_cycle'].by_key()['color']\n",
    "color_cycle=cycle(plt.rcParams['axes.prop_cycle'].by_key()['color'])"
   ]
  },
  {
   "cell_type": "markdown",
   "id": "8bd179ca",
   "metadata": {},
   "source": [
    "# 2. Datasets"
   ]
  },
  {
   "cell_type": "markdown",
   "id": "ac094d7f",
   "metadata": {},
   "source": [
    "**Below files are available**\n",
    "- calendar.csv - Contains information about the dates on which the products are sold.\n",
    "- sales_train_validation.csv - Contains the historical daily unit sales data per product and store [d_1 - d_1913]\n",
    "- sample_submission.csv - The correct format for submissions. Reference the Evaluation tab for more info.\n",
    "- sell_prices.csv - Contains information about the price of the products sold per store and date.\n",
    "- sales_train_evaluation.csv - Includes sales [d_1 - d_1941] "
   ]
  },
  {
   "cell_type": "markdown",
   "id": "850ba191",
   "metadata": {},
   "source": [
    "## 2.1. Data Loading"
   ]
  },
  {
   "cell_type": "code",
   "execution_count": 276,
   "id": "0ce55791",
   "metadata": {},
   "outputs": [],
   "source": [
    "sales=pd.read_csv('sales_train_validation.csv')\n",
    "cal=pd.read_csv('calendar.csv')\n",
    "price=pd.read_csv('sell_prices.csv')"
   ]
  },
  {
   "cell_type": "markdown",
   "id": "736d464b",
   "metadata": {},
   "source": [
    "# 3. Exploratory Data Analysis (EDA)"
   ]
  },
  {
   "cell_type": "markdown",
   "id": "5bf5bcd5",
   "metadata": {},
   "source": [
    "## 3.1 Analyse given datasets"
   ]
  },
  {
   "cell_type": "markdown",
   "id": "7fcd3e1b",
   "metadata": {},
   "source": [
    "### 3.1.1. Describe the dataset"
   ]
  },
  {
   "cell_type": "code",
   "execution_count": 177,
   "id": "fa8da4e5",
   "metadata": {},
   "outputs": [
    {
     "name": "stdout",
     "output_type": "stream",
     "text": [
      "(30490, 1919)\n",
      "(1969, 14)\n",
      "(6841121, 4)\n"
     ]
    }
   ],
   "source": [
    "# print shape\n",
    "\n",
    "print(sales.shape)\n",
    "print(cal.shape)\n",
    "print(price.shape)"
   ]
  },
  {
   "cell_type": "code",
   "execution_count": 178,
   "id": "666cde2d",
   "metadata": {},
   "outputs": [
    {
     "name": "stdout",
     "output_type": "stream",
     "text": [
      "Index(['id', 'item_id', 'dept_id', 'cat_id', 'store_id', 'state_id', 'd_1',\n",
      "       'd_2', 'd_3', 'd_4',\n",
      "       ...\n",
      "       'd_1904', 'd_1905', 'd_1906', 'd_1907', 'd_1908', 'd_1909', 'd_1910',\n",
      "       'd_1911', 'd_1912', 'd_1913'],\n",
      "      dtype='object', length=1919)\n",
      "Index(['date', 'wm_yr_wk', 'weekday', 'wday', 'month', 'year', 'd',\n",
      "       'event_name_1', 'event_type_1', 'event_name_2', 'event_type_2',\n",
      "       'snap_CA', 'snap_TX', 'snap_WI'],\n",
      "      dtype='object')\n",
      "Index(['store_id', 'item_id', 'wm_yr_wk', 'sell_price'], dtype='object')\n"
     ]
    }
   ],
   "source": [
    "# print column names in all 3 dataframes\n",
    "\n",
    "print(sales.columns)\n",
    "print(cal.columns)\n",
    "print(price.columns)"
   ]
  },
  {
   "cell_type": "markdown",
   "id": "e9c04c3e",
   "metadata": {},
   "source": [
    "### 3.1.2. Look for unique values"
   ]
  },
  {
   "cell_type": "code",
   "execution_count": 179,
   "id": "b2fe8caa",
   "metadata": {},
   "outputs": [
    {
     "name": "stdout",
     "output_type": "stream",
     "text": [
      "There are 3 categories\n",
      "There are 7 departments\n",
      "There are 3 unique states\n",
      "There are 10 stores\n",
      "There are 3049 items\n",
      "unique states are: ['CA' 'TX' 'WI']\n",
      "unique store ids are: ['CA_1' 'CA_2' 'CA_3' 'CA_4' 'TX_1' 'TX_2' 'TX_3' 'WI_1' 'WI_2' 'WI_3']\n",
      "unique category IDs are: ['HOBBIES' 'HOUSEHOLD' 'FOODS']\n",
      "unique department IDs are: ['HOBBIES_1' 'HOBBIES_2' 'HOUSEHOLD_1' 'HOUSEHOLD_2' 'FOODS_1' 'FOODS_2'\n",
      " 'FOODS_3']\n"
     ]
    }
   ],
   "source": [
    "# look for unique counts and values of main columns\n",
    "\n",
    "print(f\"There are {sales['cat_id'].nunique()} categories\")\n",
    "\n",
    "print(f\"There are {sales['dept_id'].nunique()} departments\")\n",
    "print(f\"There are {sales['state_id'].nunique()} unique states\")\n",
    "print(f\"There are {sales['store_id'].nunique()} stores\")\n",
    "print(f\"There are {sales['item_id'].nunique()} items\")\n",
    "\n",
    "print(f\"unique states are: {sales.state_id.unique()}\")\n",
    "print(f\"unique store ids are: {sales.store_id.unique()}\")\n",
    "print(f\"unique category IDs are: {sales.cat_id.unique()}\")\n",
    "print(f\"unique department IDs are: {sales.dept_id.unique()}\")\n"
   ]
  },
  {
   "cell_type": "markdown",
   "id": "9b527478",
   "metadata": {},
   "source": [
    "### 3.1.3. Look for NA values"
   ]
  },
  {
   "cell_type": "code",
   "execution_count": 180,
   "id": "2080852a",
   "metadata": {},
   "outputs": [
    {
     "name": "stdout",
     "output_type": "stream",
     "text": [
      "id          0\n",
      "item_id     0\n",
      "dept_id     0\n",
      "cat_id      0\n",
      "store_id    0\n",
      "           ..\n",
      "d_1909      0\n",
      "d_1910      0\n",
      "d_1911      0\n",
      "d_1912      0\n",
      "d_1913      0\n",
      "Length: 1919, dtype: int64\n",
      "---------------------------------------------------------\n",
      "date               0\n",
      "wm_yr_wk           0\n",
      "weekday            0\n",
      "wday               0\n",
      "month              0\n",
      "year               0\n",
      "d                  0\n",
      "event_name_1    1807\n",
      "event_type_1    1807\n",
      "event_name_2    1964\n",
      "event_type_2    1964\n",
      "snap_CA            0\n",
      "snap_TX            0\n",
      "snap_WI            0\n",
      "dtype: int64\n",
      "---------------------------------------------------------\n",
      "store_id      0\n",
      "item_id       0\n",
      "wm_yr_wk      0\n",
      "sell_price    0\n",
      "dtype: int64\n"
     ]
    }
   ],
   "source": [
    "#Checking for any na values\n",
    "print(sales.isna().sum())\n",
    "print(\"---------------------------------------------------------\")\n",
    "print(cal.isna().sum())\n",
    "print(\"---------------------------------------------------------\")\n",
    "print(price.isna().sum())"
   ]
  },
  {
   "cell_type": "markdown",
   "id": "6f3060e0",
   "metadata": {},
   "source": [
    "**Observations about datasets:**\n",
    "\n",
    "In the data, there are 3 states, 10 stores, 3 categories, 7 departments, and 3049 items.\n",
    "\n",
    "- States are (CA, TX, WI)\n",
    "- 10 stores are:\n",
    "    - 4 in CA: (CA_1, CA_2, CA_3, CA_4) \n",
    "    - 3 stores in TX: (TX_1, TX_2, TX_3)\n",
    "    - 3 stores in WI: (WI_1, WI_2, WI_3)\n",
    "- 3 Categories are:\n",
    "     - HOBBIES, \n",
    "     - HOUSEHOLD, \n",
    "     - FOODS\n",
    "- Departments are:\n",
    "    - HOBBIES:'HOBBIES_1', 'HOBBIES_2', \n",
    "    - HOUSEHOLD:'HOUSEHOLD_1', 'HOUSEHOLD_2', \n",
    "    - FOOD:'FOODS_1','FOODS_2','FOODS_3'\n",
    "    \n",
    "- Null Values:\n",
    "    - There are null values in calendar dataset under event_name and event_type categories."
   ]
  },
  {
   "cell_type": "markdown",
   "id": "08e15f39",
   "metadata": {},
   "source": [
    "## 3.2. Data Visualization"
   ]
  },
  {
   "cell_type": "markdown",
   "id": "2acb6a34",
   "metadata": {},
   "source": [
    "### 3.2.1. Visualizing the distribution of items"
   ]
  },
  {
   "cell_type": "code",
   "execution_count": 181,
   "id": "9aafaa1a",
   "metadata": {},
   "outputs": [
    {
     "data": {
      "application/vnd.plotly.v1+json": {
       "config": {
        "plotlyServerURL": "https://plot.ly"
       },
       "data": [
        {
         "branchvalues": "total",
         "customdata": [
          [
           216
          ],
          [
           216
          ],
          [
           216
          ],
          [
           216
          ],
          [
           216
          ],
          [
           216
          ],
          [
           216
          ],
          [
           216
          ],
          [
           216
          ],
          [
           216
          ],
          [
           398
          ],
          [
           398
          ],
          [
           398
          ],
          [
           398
          ],
          [
           398
          ],
          [
           398
          ],
          [
           398
          ],
          [
           398
          ],
          [
           398
          ],
          [
           398
          ],
          [
           823
          ],
          [
           823
          ],
          [
           823
          ],
          [
           823
          ],
          [
           823
          ],
          [
           823
          ],
          [
           823
          ],
          [
           823
          ],
          [
           823
          ],
          [
           823
          ],
          [
           416
          ],
          [
           416
          ],
          [
           416
          ],
          [
           416
          ],
          [
           416
          ],
          [
           416
          ],
          [
           416
          ],
          [
           416
          ],
          [
           416
          ],
          [
           416
          ],
          [
           149
          ],
          [
           149
          ],
          [
           149
          ],
          [
           149
          ],
          [
           149
          ],
          [
           149
          ],
          [
           149
          ],
          [
           149
          ],
          [
           149
          ],
          [
           149
          ],
          [
           532
          ],
          [
           532
          ],
          [
           532
          ],
          [
           532
          ],
          [
           532
          ],
          [
           532
          ],
          [
           532
          ],
          [
           532
          ],
          [
           532
          ],
          [
           532
          ],
          [
           515
          ],
          [
           515
          ],
          [
           515
          ],
          [
           515
          ],
          [
           515
          ],
          [
           515
          ],
          [
           515
          ],
          [
           515
          ],
          [
           515
          ],
          [
           515
          ],
          [
           614.0494084899095
          ],
          [
           614.0494084899095
          ],
          [
           614.0494084899095
          ],
          [
           614.0494084899095
          ],
          [
           614.0494084899095
          ],
          [
           614.0494084899095
          ],
          [
           614.0494084899095
          ],
          [
           614.0494084899095
          ],
          [
           614.0494084899095
          ],
          [
           614.0494084899095
          ],
          [
           345.58761061946905
          ],
          [
           345.58761061946905
          ],
          [
           345.58761061946905
          ],
          [
           345.58761061946905
          ],
          [
           345.58761061946905
          ],
          [
           345.58761061946905
          ],
          [
           345.58761061946905
          ],
          [
           345.58761061946905
          ],
          [
           345.58761061946905
          ],
          [
           345.58761061946905
          ],
          [
           523.6380133715377
          ],
          [
           523.6380133715377
          ],
          [
           523.6380133715377
          ],
          [
           523.6380133715377
          ],
          [
           523.6380133715377
          ],
          [
           523.6380133715377
          ],
          [
           523.6380133715377
          ],
          [
           523.6380133715377
          ],
          [
           523.6380133715377
          ],
          [
           523.6380133715377
          ],
          [
           533.2551656280748
          ],
          [
           533.2551656280748
          ],
          [
           533.2551656280748
          ],
          [
           533.2551656280748
          ],
          [
           533.2551656280748
          ],
          [
           533.2551656280748
          ],
          [
           533.2551656280748
          ],
          [
           533.2551656280748
          ],
          [
           533.2551656280748
          ],
          [
           533.2551656280748
          ],
          [
           533.2551656280748
          ],
          [
           533.2551656280748
          ],
          [
           533.2551656280748
          ],
          [
           533.2551656280748
          ]
         ],
         "domain": {
          "x": [
           0,
           1
          ],
          "y": [
           0,
           1
          ]
         },
         "hovertemplate": "labels=%{label}<br>item_id_sum=%{value}<br>parent=%{parent}<br>id=%{id}<br>item_id=%{color}<extra></extra>",
         "ids": [
          "USA/CA/CA_1/FOODS/FOODS_1",
          "USA/CA/CA_2/FOODS/FOODS_1",
          "USA/CA/CA_3/FOODS/FOODS_1",
          "USA/CA/CA_4/FOODS/FOODS_1",
          "USA/TX/TX_1/FOODS/FOODS_1",
          "USA/TX/TX_2/FOODS/FOODS_1",
          "USA/TX/TX_3/FOODS/FOODS_1",
          "USA/WI/WI_1/FOODS/FOODS_1",
          "USA/WI/WI_2/FOODS/FOODS_1",
          "USA/WI/WI_3/FOODS/FOODS_1",
          "USA/CA/CA_1/FOODS/FOODS_2",
          "USA/CA/CA_2/FOODS/FOODS_2",
          "USA/CA/CA_3/FOODS/FOODS_2",
          "USA/CA/CA_4/FOODS/FOODS_2",
          "USA/TX/TX_1/FOODS/FOODS_2",
          "USA/TX/TX_2/FOODS/FOODS_2",
          "USA/TX/TX_3/FOODS/FOODS_2",
          "USA/WI/WI_1/FOODS/FOODS_2",
          "USA/WI/WI_2/FOODS/FOODS_2",
          "USA/WI/WI_3/FOODS/FOODS_2",
          "USA/CA/CA_1/FOODS/FOODS_3",
          "USA/CA/CA_2/FOODS/FOODS_3",
          "USA/CA/CA_3/FOODS/FOODS_3",
          "USA/CA/CA_4/FOODS/FOODS_3",
          "USA/TX/TX_1/FOODS/FOODS_3",
          "USA/TX/TX_2/FOODS/FOODS_3",
          "USA/TX/TX_3/FOODS/FOODS_3",
          "USA/WI/WI_1/FOODS/FOODS_3",
          "USA/WI/WI_2/FOODS/FOODS_3",
          "USA/WI/WI_3/FOODS/FOODS_3",
          "USA/CA/CA_1/HOBBIES/HOBBIES_1",
          "USA/CA/CA_2/HOBBIES/HOBBIES_1",
          "USA/CA/CA_3/HOBBIES/HOBBIES_1",
          "USA/CA/CA_4/HOBBIES/HOBBIES_1",
          "USA/TX/TX_1/HOBBIES/HOBBIES_1",
          "USA/TX/TX_2/HOBBIES/HOBBIES_1",
          "USA/TX/TX_3/HOBBIES/HOBBIES_1",
          "USA/WI/WI_1/HOBBIES/HOBBIES_1",
          "USA/WI/WI_2/HOBBIES/HOBBIES_1",
          "USA/WI/WI_3/HOBBIES/HOBBIES_1",
          "USA/CA/CA_1/HOBBIES/HOBBIES_2",
          "USA/CA/CA_2/HOBBIES/HOBBIES_2",
          "USA/CA/CA_3/HOBBIES/HOBBIES_2",
          "USA/CA/CA_4/HOBBIES/HOBBIES_2",
          "USA/TX/TX_1/HOBBIES/HOBBIES_2",
          "USA/TX/TX_2/HOBBIES/HOBBIES_2",
          "USA/TX/TX_3/HOBBIES/HOBBIES_2",
          "USA/WI/WI_1/HOBBIES/HOBBIES_2",
          "USA/WI/WI_2/HOBBIES/HOBBIES_2",
          "USA/WI/WI_3/HOBBIES/HOBBIES_2",
          "USA/CA/CA_1/HOUSEHOLD/HOUSEHOLD_1",
          "USA/CA/CA_2/HOUSEHOLD/HOUSEHOLD_1",
          "USA/CA/CA_3/HOUSEHOLD/HOUSEHOLD_1",
          "USA/CA/CA_4/HOUSEHOLD/HOUSEHOLD_1",
          "USA/TX/TX_1/HOUSEHOLD/HOUSEHOLD_1",
          "USA/TX/TX_2/HOUSEHOLD/HOUSEHOLD_1",
          "USA/TX/TX_3/HOUSEHOLD/HOUSEHOLD_1",
          "USA/WI/WI_1/HOUSEHOLD/HOUSEHOLD_1",
          "USA/WI/WI_2/HOUSEHOLD/HOUSEHOLD_1",
          "USA/WI/WI_3/HOUSEHOLD/HOUSEHOLD_1",
          "USA/CA/CA_1/HOUSEHOLD/HOUSEHOLD_2",
          "USA/CA/CA_2/HOUSEHOLD/HOUSEHOLD_2",
          "USA/CA/CA_3/HOUSEHOLD/HOUSEHOLD_2",
          "USA/CA/CA_4/HOUSEHOLD/HOUSEHOLD_2",
          "USA/TX/TX_1/HOUSEHOLD/HOUSEHOLD_2",
          "USA/TX/TX_2/HOUSEHOLD/HOUSEHOLD_2",
          "USA/TX/TX_3/HOUSEHOLD/HOUSEHOLD_2",
          "USA/WI/WI_1/HOUSEHOLD/HOUSEHOLD_2",
          "USA/WI/WI_2/HOUSEHOLD/HOUSEHOLD_2",
          "USA/WI/WI_3/HOUSEHOLD/HOUSEHOLD_2",
          "USA/CA/CA_1/FOODS",
          "USA/CA/CA_2/FOODS",
          "USA/CA/CA_3/FOODS",
          "USA/CA/CA_4/FOODS",
          "USA/TX/TX_1/FOODS",
          "USA/TX/TX_2/FOODS",
          "USA/TX/TX_3/FOODS",
          "USA/WI/WI_1/FOODS",
          "USA/WI/WI_2/FOODS",
          "USA/WI/WI_3/FOODS",
          "USA/CA/CA_1/HOBBIES",
          "USA/CA/CA_2/HOBBIES",
          "USA/CA/CA_3/HOBBIES",
          "USA/CA/CA_4/HOBBIES",
          "USA/TX/TX_1/HOBBIES",
          "USA/TX/TX_2/HOBBIES",
          "USA/TX/TX_3/HOBBIES",
          "USA/WI/WI_1/HOBBIES",
          "USA/WI/WI_2/HOBBIES",
          "USA/WI/WI_3/HOBBIES",
          "USA/CA/CA_1/HOUSEHOLD",
          "USA/CA/CA_2/HOUSEHOLD",
          "USA/CA/CA_3/HOUSEHOLD",
          "USA/CA/CA_4/HOUSEHOLD",
          "USA/TX/TX_1/HOUSEHOLD",
          "USA/TX/TX_2/HOUSEHOLD",
          "USA/TX/TX_3/HOUSEHOLD",
          "USA/WI/WI_1/HOUSEHOLD",
          "USA/WI/WI_2/HOUSEHOLD",
          "USA/WI/WI_3/HOUSEHOLD",
          "USA/CA/CA_1",
          "USA/CA/CA_2",
          "USA/CA/CA_3",
          "USA/CA/CA_4",
          "USA/TX/TX_1",
          "USA/TX/TX_2",
          "USA/TX/TX_3",
          "USA/WI/WI_1",
          "USA/WI/WI_2",
          "USA/WI/WI_3",
          "USA/CA",
          "USA/TX",
          "USA/WI",
          "USA"
         ],
         "labels": [
          "FOODS_1",
          "FOODS_1",
          "FOODS_1",
          "FOODS_1",
          "FOODS_1",
          "FOODS_1",
          "FOODS_1",
          "FOODS_1",
          "FOODS_1",
          "FOODS_1",
          "FOODS_2",
          "FOODS_2",
          "FOODS_2",
          "FOODS_2",
          "FOODS_2",
          "FOODS_2",
          "FOODS_2",
          "FOODS_2",
          "FOODS_2",
          "FOODS_2",
          "FOODS_3",
          "FOODS_3",
          "FOODS_3",
          "FOODS_3",
          "FOODS_3",
          "FOODS_3",
          "FOODS_3",
          "FOODS_3",
          "FOODS_3",
          "FOODS_3",
          "HOBBIES_1",
          "HOBBIES_1",
          "HOBBIES_1",
          "HOBBIES_1",
          "HOBBIES_1",
          "HOBBIES_1",
          "HOBBIES_1",
          "HOBBIES_1",
          "HOBBIES_1",
          "HOBBIES_1",
          "HOBBIES_2",
          "HOBBIES_2",
          "HOBBIES_2",
          "HOBBIES_2",
          "HOBBIES_2",
          "HOBBIES_2",
          "HOBBIES_2",
          "HOBBIES_2",
          "HOBBIES_2",
          "HOBBIES_2",
          "HOUSEHOLD_1",
          "HOUSEHOLD_1",
          "HOUSEHOLD_1",
          "HOUSEHOLD_1",
          "HOUSEHOLD_1",
          "HOUSEHOLD_1",
          "HOUSEHOLD_1",
          "HOUSEHOLD_1",
          "HOUSEHOLD_1",
          "HOUSEHOLD_1",
          "HOUSEHOLD_2",
          "HOUSEHOLD_2",
          "HOUSEHOLD_2",
          "HOUSEHOLD_2",
          "HOUSEHOLD_2",
          "HOUSEHOLD_2",
          "HOUSEHOLD_2",
          "HOUSEHOLD_2",
          "HOUSEHOLD_2",
          "HOUSEHOLD_2",
          "FOODS",
          "FOODS",
          "FOODS",
          "FOODS",
          "FOODS",
          "FOODS",
          "FOODS",
          "FOODS",
          "FOODS",
          "FOODS",
          "HOBBIES",
          "HOBBIES",
          "HOBBIES",
          "HOBBIES",
          "HOBBIES",
          "HOBBIES",
          "HOBBIES",
          "HOBBIES",
          "HOBBIES",
          "HOBBIES",
          "HOUSEHOLD",
          "HOUSEHOLD",
          "HOUSEHOLD",
          "HOUSEHOLD",
          "HOUSEHOLD",
          "HOUSEHOLD",
          "HOUSEHOLD",
          "HOUSEHOLD",
          "HOUSEHOLD",
          "HOUSEHOLD",
          "CA_1",
          "CA_2",
          "CA_3",
          "CA_4",
          "TX_1",
          "TX_2",
          "TX_3",
          "WI_1",
          "WI_2",
          "WI_3",
          "CA",
          "TX",
          "WI",
          "USA"
         ],
         "marker": {
          "coloraxis": "coloraxis",
          "colors": [
           216,
           216,
           216,
           216,
           216,
           216,
           216,
           216,
           216,
           216,
           398,
           398,
           398,
           398,
           398,
           398,
           398,
           398,
           398,
           398,
           823,
           823,
           823,
           823,
           823,
           823,
           823,
           823,
           823,
           823,
           416,
           416,
           416,
           416,
           416,
           416,
           416,
           416,
           416,
           416,
           149,
           149,
           149,
           149,
           149,
           149,
           149,
           149,
           149,
           149,
           532,
           532,
           532,
           532,
           532,
           532,
           532,
           532,
           532,
           532,
           515,
           515,
           515,
           515,
           515,
           515,
           515,
           515,
           515,
           515,
           614.0494084899095,
           614.0494084899095,
           614.0494084899095,
           614.0494084899095,
           614.0494084899095,
           614.0494084899095,
           614.0494084899095,
           614.0494084899095,
           614.0494084899095,
           614.0494084899095,
           345.58761061946905,
           345.58761061946905,
           345.58761061946905,
           345.58761061946905,
           345.58761061946905,
           345.58761061946905,
           345.58761061946905,
           345.58761061946905,
           345.58761061946905,
           345.58761061946905,
           523.6380133715377,
           523.6380133715377,
           523.6380133715377,
           523.6380133715377,
           523.6380133715377,
           523.6380133715377,
           523.6380133715377,
           523.6380133715377,
           523.6380133715377,
           523.6380133715377,
           533.2551656280748,
           533.2551656280748,
           533.2551656280748,
           533.2551656280748,
           533.2551656280748,
           533.2551656280748,
           533.2551656280748,
           533.2551656280748,
           533.2551656280748,
           533.2551656280748,
           533.2551656280748,
           533.2551656280748,
           533.2551656280748,
           533.2551656280748
          ]
         },
         "name": "",
         "parents": [
          "USA/CA/CA_1/FOODS",
          "USA/CA/CA_2/FOODS",
          "USA/CA/CA_3/FOODS",
          "USA/CA/CA_4/FOODS",
          "USA/TX/TX_1/FOODS",
          "USA/TX/TX_2/FOODS",
          "USA/TX/TX_3/FOODS",
          "USA/WI/WI_1/FOODS",
          "USA/WI/WI_2/FOODS",
          "USA/WI/WI_3/FOODS",
          "USA/CA/CA_1/FOODS",
          "USA/CA/CA_2/FOODS",
          "USA/CA/CA_3/FOODS",
          "USA/CA/CA_4/FOODS",
          "USA/TX/TX_1/FOODS",
          "USA/TX/TX_2/FOODS",
          "USA/TX/TX_3/FOODS",
          "USA/WI/WI_1/FOODS",
          "USA/WI/WI_2/FOODS",
          "USA/WI/WI_3/FOODS",
          "USA/CA/CA_1/FOODS",
          "USA/CA/CA_2/FOODS",
          "USA/CA/CA_3/FOODS",
          "USA/CA/CA_4/FOODS",
          "USA/TX/TX_1/FOODS",
          "USA/TX/TX_2/FOODS",
          "USA/TX/TX_3/FOODS",
          "USA/WI/WI_1/FOODS",
          "USA/WI/WI_2/FOODS",
          "USA/WI/WI_3/FOODS",
          "USA/CA/CA_1/HOBBIES",
          "USA/CA/CA_2/HOBBIES",
          "USA/CA/CA_3/HOBBIES",
          "USA/CA/CA_4/HOBBIES",
          "USA/TX/TX_1/HOBBIES",
          "USA/TX/TX_2/HOBBIES",
          "USA/TX/TX_3/HOBBIES",
          "USA/WI/WI_1/HOBBIES",
          "USA/WI/WI_2/HOBBIES",
          "USA/WI/WI_3/HOBBIES",
          "USA/CA/CA_1/HOBBIES",
          "USA/CA/CA_2/HOBBIES",
          "USA/CA/CA_3/HOBBIES",
          "USA/CA/CA_4/HOBBIES",
          "USA/TX/TX_1/HOBBIES",
          "USA/TX/TX_2/HOBBIES",
          "USA/TX/TX_3/HOBBIES",
          "USA/WI/WI_1/HOBBIES",
          "USA/WI/WI_2/HOBBIES",
          "USA/WI/WI_3/HOBBIES",
          "USA/CA/CA_1/HOUSEHOLD",
          "USA/CA/CA_2/HOUSEHOLD",
          "USA/CA/CA_3/HOUSEHOLD",
          "USA/CA/CA_4/HOUSEHOLD",
          "USA/TX/TX_1/HOUSEHOLD",
          "USA/TX/TX_2/HOUSEHOLD",
          "USA/TX/TX_3/HOUSEHOLD",
          "USA/WI/WI_1/HOUSEHOLD",
          "USA/WI/WI_2/HOUSEHOLD",
          "USA/WI/WI_3/HOUSEHOLD",
          "USA/CA/CA_1/HOUSEHOLD",
          "USA/CA/CA_2/HOUSEHOLD",
          "USA/CA/CA_3/HOUSEHOLD",
          "USA/CA/CA_4/HOUSEHOLD",
          "USA/TX/TX_1/HOUSEHOLD",
          "USA/TX/TX_2/HOUSEHOLD",
          "USA/TX/TX_3/HOUSEHOLD",
          "USA/WI/WI_1/HOUSEHOLD",
          "USA/WI/WI_2/HOUSEHOLD",
          "USA/WI/WI_3/HOUSEHOLD",
          "USA/CA/CA_1",
          "USA/CA/CA_2",
          "USA/CA/CA_3",
          "USA/CA/CA_4",
          "USA/TX/TX_1",
          "USA/TX/TX_2",
          "USA/TX/TX_3",
          "USA/WI/WI_1",
          "USA/WI/WI_2",
          "USA/WI/WI_3",
          "USA/CA/CA_1",
          "USA/CA/CA_2",
          "USA/CA/CA_3",
          "USA/CA/CA_4",
          "USA/TX/TX_1",
          "USA/TX/TX_2",
          "USA/TX/TX_3",
          "USA/WI/WI_1",
          "USA/WI/WI_2",
          "USA/WI/WI_3",
          "USA/CA/CA_1",
          "USA/CA/CA_2",
          "USA/CA/CA_3",
          "USA/CA/CA_4",
          "USA/TX/TX_1",
          "USA/TX/TX_2",
          "USA/TX/TX_3",
          "USA/WI/WI_1",
          "USA/WI/WI_2",
          "USA/WI/WI_3",
          "USA/CA",
          "USA/CA",
          "USA/CA",
          "USA/CA",
          "USA/TX",
          "USA/TX",
          "USA/TX",
          "USA/WI",
          "USA/WI",
          "USA/WI",
          "USA",
          "USA",
          "USA",
          ""
         ],
         "type": "treemap",
         "values": [
          216,
          216,
          216,
          216,
          216,
          216,
          216,
          216,
          216,
          216,
          398,
          398,
          398,
          398,
          398,
          398,
          398,
          398,
          398,
          398,
          823,
          823,
          823,
          823,
          823,
          823,
          823,
          823,
          823,
          823,
          416,
          416,
          416,
          416,
          416,
          416,
          416,
          416,
          416,
          416,
          149,
          149,
          149,
          149,
          149,
          149,
          149,
          149,
          149,
          149,
          532,
          532,
          532,
          532,
          532,
          532,
          532,
          532,
          532,
          532,
          515,
          515,
          515,
          515,
          515,
          515,
          515,
          515,
          515,
          515,
          1437,
          1437,
          1437,
          1437,
          1437,
          1437,
          1437,
          1437,
          1437,
          1437,
          565,
          565,
          565,
          565,
          565,
          565,
          565,
          565,
          565,
          565,
          1047,
          1047,
          1047,
          1047,
          1047,
          1047,
          1047,
          1047,
          1047,
          1047,
          3049,
          3049,
          3049,
          3049,
          3049,
          3049,
          3049,
          3049,
          3049,
          3049,
          12196,
          9147,
          9147,
          30490
         ]
        }
       ],
       "layout": {
        "coloraxis": {
         "colorbar": {
          "title": {
           "text": "item_id"
          }
         },
         "colorscale": [
          [
           0,
           "rgb(103,0,31)"
          ],
          [
           0.1,
           "rgb(178,24,43)"
          ],
          [
           0.2,
           "rgb(214,96,77)"
          ],
          [
           0.3,
           "rgb(244,165,130)"
          ],
          [
           0.4,
           "rgb(253,219,199)"
          ],
          [
           0.5,
           "rgb(247,247,247)"
          ],
          [
           0.6,
           "rgb(209,229,240)"
          ],
          [
           0.7,
           "rgb(146,197,222)"
          ],
          [
           0.8,
           "rgb(67,147,195)"
          ],
          [
           0.9,
           "rgb(33,102,172)"
          ],
          [
           1,
           "rgb(5,48,97)"
          ]
         ]
        },
        "legend": {
         "tracegroupgap": 0
        },
        "template": {
         "data": {
          "bar": [
           {
            "error_x": {
             "color": "#2a3f5f"
            },
            "error_y": {
             "color": "#2a3f5f"
            },
            "marker": {
             "line": {
              "color": "#E5ECF6",
              "width": 0.5
             }
            },
            "type": "bar"
           }
          ],
          "barpolar": [
           {
            "marker": {
             "line": {
              "color": "#E5ECF6",
              "width": 0.5
             }
            },
            "type": "barpolar"
           }
          ],
          "carpet": [
           {
            "aaxis": {
             "endlinecolor": "#2a3f5f",
             "gridcolor": "white",
             "linecolor": "white",
             "minorgridcolor": "white",
             "startlinecolor": "#2a3f5f"
            },
            "baxis": {
             "endlinecolor": "#2a3f5f",
             "gridcolor": "white",
             "linecolor": "white",
             "minorgridcolor": "white",
             "startlinecolor": "#2a3f5f"
            },
            "type": "carpet"
           }
          ],
          "choropleth": [
           {
            "colorbar": {
             "outlinewidth": 0,
             "ticks": ""
            },
            "type": "choropleth"
           }
          ],
          "contour": [
           {
            "colorbar": {
             "outlinewidth": 0,
             "ticks": ""
            },
            "colorscale": [
             [
              0,
              "#0d0887"
             ],
             [
              0.1111111111111111,
              "#46039f"
             ],
             [
              0.2222222222222222,
              "#7201a8"
             ],
             [
              0.3333333333333333,
              "#9c179e"
             ],
             [
              0.4444444444444444,
              "#bd3786"
             ],
             [
              0.5555555555555556,
              "#d8576b"
             ],
             [
              0.6666666666666666,
              "#ed7953"
             ],
             [
              0.7777777777777778,
              "#fb9f3a"
             ],
             [
              0.8888888888888888,
              "#fdca26"
             ],
             [
              1,
              "#f0f921"
             ]
            ],
            "type": "contour"
           }
          ],
          "contourcarpet": [
           {
            "colorbar": {
             "outlinewidth": 0,
             "ticks": ""
            },
            "type": "contourcarpet"
           }
          ],
          "heatmap": [
           {
            "colorbar": {
             "outlinewidth": 0,
             "ticks": ""
            },
            "colorscale": [
             [
              0,
              "#0d0887"
             ],
             [
              0.1111111111111111,
              "#46039f"
             ],
             [
              0.2222222222222222,
              "#7201a8"
             ],
             [
              0.3333333333333333,
              "#9c179e"
             ],
             [
              0.4444444444444444,
              "#bd3786"
             ],
             [
              0.5555555555555556,
              "#d8576b"
             ],
             [
              0.6666666666666666,
              "#ed7953"
             ],
             [
              0.7777777777777778,
              "#fb9f3a"
             ],
             [
              0.8888888888888888,
              "#fdca26"
             ],
             [
              1,
              "#f0f921"
             ]
            ],
            "type": "heatmap"
           }
          ],
          "heatmapgl": [
           {
            "colorbar": {
             "outlinewidth": 0,
             "ticks": ""
            },
            "colorscale": [
             [
              0,
              "#0d0887"
             ],
             [
              0.1111111111111111,
              "#46039f"
             ],
             [
              0.2222222222222222,
              "#7201a8"
             ],
             [
              0.3333333333333333,
              "#9c179e"
             ],
             [
              0.4444444444444444,
              "#bd3786"
             ],
             [
              0.5555555555555556,
              "#d8576b"
             ],
             [
              0.6666666666666666,
              "#ed7953"
             ],
             [
              0.7777777777777778,
              "#fb9f3a"
             ],
             [
              0.8888888888888888,
              "#fdca26"
             ],
             [
              1,
              "#f0f921"
             ]
            ],
            "type": "heatmapgl"
           }
          ],
          "histogram": [
           {
            "marker": {
             "colorbar": {
              "outlinewidth": 0,
              "ticks": ""
             }
            },
            "type": "histogram"
           }
          ],
          "histogram2d": [
           {
            "colorbar": {
             "outlinewidth": 0,
             "ticks": ""
            },
            "colorscale": [
             [
              0,
              "#0d0887"
             ],
             [
              0.1111111111111111,
              "#46039f"
             ],
             [
              0.2222222222222222,
              "#7201a8"
             ],
             [
              0.3333333333333333,
              "#9c179e"
             ],
             [
              0.4444444444444444,
              "#bd3786"
             ],
             [
              0.5555555555555556,
              "#d8576b"
             ],
             [
              0.6666666666666666,
              "#ed7953"
             ],
             [
              0.7777777777777778,
              "#fb9f3a"
             ],
             [
              0.8888888888888888,
              "#fdca26"
             ],
             [
              1,
              "#f0f921"
             ]
            ],
            "type": "histogram2d"
           }
          ],
          "histogram2dcontour": [
           {
            "colorbar": {
             "outlinewidth": 0,
             "ticks": ""
            },
            "colorscale": [
             [
              0,
              "#0d0887"
             ],
             [
              0.1111111111111111,
              "#46039f"
             ],
             [
              0.2222222222222222,
              "#7201a8"
             ],
             [
              0.3333333333333333,
              "#9c179e"
             ],
             [
              0.4444444444444444,
              "#bd3786"
             ],
             [
              0.5555555555555556,
              "#d8576b"
             ],
             [
              0.6666666666666666,
              "#ed7953"
             ],
             [
              0.7777777777777778,
              "#fb9f3a"
             ],
             [
              0.8888888888888888,
              "#fdca26"
             ],
             [
              1,
              "#f0f921"
             ]
            ],
            "type": "histogram2dcontour"
           }
          ],
          "mesh3d": [
           {
            "colorbar": {
             "outlinewidth": 0,
             "ticks": ""
            },
            "type": "mesh3d"
           }
          ],
          "parcoords": [
           {
            "line": {
             "colorbar": {
              "outlinewidth": 0,
              "ticks": ""
             }
            },
            "type": "parcoords"
           }
          ],
          "pie": [
           {
            "automargin": true,
            "type": "pie"
           }
          ],
          "scatter": [
           {
            "marker": {
             "colorbar": {
              "outlinewidth": 0,
              "ticks": ""
             }
            },
            "type": "scatter"
           }
          ],
          "scatter3d": [
           {
            "line": {
             "colorbar": {
              "outlinewidth": 0,
              "ticks": ""
             }
            },
            "marker": {
             "colorbar": {
              "outlinewidth": 0,
              "ticks": ""
             }
            },
            "type": "scatter3d"
           }
          ],
          "scattercarpet": [
           {
            "marker": {
             "colorbar": {
              "outlinewidth": 0,
              "ticks": ""
             }
            },
            "type": "scattercarpet"
           }
          ],
          "scattergeo": [
           {
            "marker": {
             "colorbar": {
              "outlinewidth": 0,
              "ticks": ""
             }
            },
            "type": "scattergeo"
           }
          ],
          "scattergl": [
           {
            "marker": {
             "colorbar": {
              "outlinewidth": 0,
              "ticks": ""
             }
            },
            "type": "scattergl"
           }
          ],
          "scattermapbox": [
           {
            "marker": {
             "colorbar": {
              "outlinewidth": 0,
              "ticks": ""
             }
            },
            "type": "scattermapbox"
           }
          ],
          "scatterpolar": [
           {
            "marker": {
             "colorbar": {
              "outlinewidth": 0,
              "ticks": ""
             }
            },
            "type": "scatterpolar"
           }
          ],
          "scatterpolargl": [
           {
            "marker": {
             "colorbar": {
              "outlinewidth": 0,
              "ticks": ""
             }
            },
            "type": "scatterpolargl"
           }
          ],
          "scatterternary": [
           {
            "marker": {
             "colorbar": {
              "outlinewidth": 0,
              "ticks": ""
             }
            },
            "type": "scatterternary"
           }
          ],
          "surface": [
           {
            "colorbar": {
             "outlinewidth": 0,
             "ticks": ""
            },
            "colorscale": [
             [
              0,
              "#0d0887"
             ],
             [
              0.1111111111111111,
              "#46039f"
             ],
             [
              0.2222222222222222,
              "#7201a8"
             ],
             [
              0.3333333333333333,
              "#9c179e"
             ],
             [
              0.4444444444444444,
              "#bd3786"
             ],
             [
              0.5555555555555556,
              "#d8576b"
             ],
             [
              0.6666666666666666,
              "#ed7953"
             ],
             [
              0.7777777777777778,
              "#fb9f3a"
             ],
             [
              0.8888888888888888,
              "#fdca26"
             ],
             [
              1,
              "#f0f921"
             ]
            ],
            "type": "surface"
           }
          ],
          "table": [
           {
            "cells": {
             "fill": {
              "color": "#EBF0F8"
             },
             "line": {
              "color": "white"
             }
            },
            "header": {
             "fill": {
              "color": "#C8D4E3"
             },
             "line": {
              "color": "white"
             }
            },
            "type": "table"
           }
          ]
         },
         "layout": {
          "annotationdefaults": {
           "arrowcolor": "#2a3f5f",
           "arrowhead": 0,
           "arrowwidth": 1
          },
          "autotypenumbers": "strict",
          "coloraxis": {
           "colorbar": {
            "outlinewidth": 0,
            "ticks": ""
           }
          },
          "colorscale": {
           "diverging": [
            [
             0,
             "#8e0152"
            ],
            [
             0.1,
             "#c51b7d"
            ],
            [
             0.2,
             "#de77ae"
            ],
            [
             0.3,
             "#f1b6da"
            ],
            [
             0.4,
             "#fde0ef"
            ],
            [
             0.5,
             "#f7f7f7"
            ],
            [
             0.6,
             "#e6f5d0"
            ],
            [
             0.7,
             "#b8e186"
            ],
            [
             0.8,
             "#7fbc41"
            ],
            [
             0.9,
             "#4d9221"
            ],
            [
             1,
             "#276419"
            ]
           ],
           "sequential": [
            [
             0,
             "#0d0887"
            ],
            [
             0.1111111111111111,
             "#46039f"
            ],
            [
             0.2222222222222222,
             "#7201a8"
            ],
            [
             0.3333333333333333,
             "#9c179e"
            ],
            [
             0.4444444444444444,
             "#bd3786"
            ],
            [
             0.5555555555555556,
             "#d8576b"
            ],
            [
             0.6666666666666666,
             "#ed7953"
            ],
            [
             0.7777777777777778,
             "#fb9f3a"
            ],
            [
             0.8888888888888888,
             "#fdca26"
            ],
            [
             1,
             "#f0f921"
            ]
           ],
           "sequentialminus": [
            [
             0,
             "#0d0887"
            ],
            [
             0.1111111111111111,
             "#46039f"
            ],
            [
             0.2222222222222222,
             "#7201a8"
            ],
            [
             0.3333333333333333,
             "#9c179e"
            ],
            [
             0.4444444444444444,
             "#bd3786"
            ],
            [
             0.5555555555555556,
             "#d8576b"
            ],
            [
             0.6666666666666666,
             "#ed7953"
            ],
            [
             0.7777777777777778,
             "#fb9f3a"
            ],
            [
             0.8888888888888888,
             "#fdca26"
            ],
            [
             1,
             "#f0f921"
            ]
           ]
          },
          "colorway": [
           "#636efa",
           "#EF553B",
           "#00cc96",
           "#ab63fa",
           "#FFA15A",
           "#19d3f3",
           "#FF6692",
           "#B6E880",
           "#FF97FF",
           "#FECB52"
          ],
          "font": {
           "color": "#2a3f5f"
          },
          "geo": {
           "bgcolor": "white",
           "lakecolor": "white",
           "landcolor": "#E5ECF6",
           "showlakes": true,
           "showland": true,
           "subunitcolor": "white"
          },
          "hoverlabel": {
           "align": "left"
          },
          "hovermode": "closest",
          "mapbox": {
           "style": "light"
          },
          "paper_bgcolor": "white",
          "plot_bgcolor": "#E5ECF6",
          "polar": {
           "angularaxis": {
            "gridcolor": "white",
            "linecolor": "white",
            "ticks": ""
           },
           "bgcolor": "#E5ECF6",
           "radialaxis": {
            "gridcolor": "white",
            "linecolor": "white",
            "ticks": ""
           }
          },
          "scene": {
           "xaxis": {
            "backgroundcolor": "#E5ECF6",
            "gridcolor": "white",
            "gridwidth": 2,
            "linecolor": "white",
            "showbackground": true,
            "ticks": "",
            "zerolinecolor": "white"
           },
           "yaxis": {
            "backgroundcolor": "#E5ECF6",
            "gridcolor": "white",
            "gridwidth": 2,
            "linecolor": "white",
            "showbackground": true,
            "ticks": "",
            "zerolinecolor": "white"
           },
           "zaxis": {
            "backgroundcolor": "#E5ECF6",
            "gridcolor": "white",
            "gridwidth": 2,
            "linecolor": "white",
            "showbackground": true,
            "ticks": "",
            "zerolinecolor": "white"
           }
          },
          "shapedefaults": {
           "line": {
            "color": "#2a3f5f"
           }
          },
          "ternary": {
           "aaxis": {
            "gridcolor": "white",
            "linecolor": "white",
            "ticks": ""
           },
           "baxis": {
            "gridcolor": "white",
            "linecolor": "white",
            "ticks": ""
           },
           "bgcolor": "#E5ECF6",
           "caxis": {
            "gridcolor": "white",
            "linecolor": "white",
            "ticks": ""
           }
          },
          "title": {
           "x": 0.05
          },
          "xaxis": {
           "automargin": true,
           "gridcolor": "white",
           "linecolor": "white",
           "ticks": "",
           "title": {
            "standoff": 15
           },
           "zerolinecolor": "white",
           "zerolinewidth": 2
          },
          "yaxis": {
           "automargin": true,
           "gridcolor": "white",
           "linecolor": "white",
           "ticks": "",
           "title": {
            "standoff": 15
           },
           "zerolinecolor": "white",
           "zerolinewidth": 2
          }
         }
        },
        "title": {
         "text": "Walmart: Distribution of items"
        },
        "treemapcolorway": [
         "pink",
         "lightgray"
        ]
       }
      },
      "text/html": [
       "<div>                            <div id=\"967dcbec-a848-4221-9389-e3031b413c40\" class=\"plotly-graph-div\" style=\"height:525px; width:100%;\"></div>            <script type=\"text/javascript\">                require([\"plotly\"], function(Plotly) {                    window.PLOTLYENV=window.PLOTLYENV || {};                                    if (document.getElementById(\"967dcbec-a848-4221-9389-e3031b413c40\")) {                    Plotly.newPlot(                        \"967dcbec-a848-4221-9389-e3031b413c40\",                        [{\"branchvalues\": \"total\", \"customdata\": [[216.0], [216.0], [216.0], [216.0], [216.0], [216.0], [216.0], [216.0], [216.0], [216.0], [398.0], [398.0], [398.0], [398.0], [398.0], [398.0], [398.0], [398.0], [398.0], [398.0], [823.0], [823.0], [823.0], [823.0], [823.0], [823.0], [823.0], [823.0], [823.0], [823.0], [416.0], [416.0], [416.0], [416.0], [416.0], [416.0], [416.0], [416.0], [416.0], [416.0], [149.0], [149.0], [149.0], [149.0], [149.0], [149.0], [149.0], [149.0], [149.0], [149.0], [532.0], [532.0], [532.0], [532.0], [532.0], [532.0], [532.0], [532.0], [532.0], [532.0], [515.0], [515.0], [515.0], [515.0], [515.0], [515.0], [515.0], [515.0], [515.0], [515.0], [614.0494084899095], [614.0494084899095], [614.0494084899095], [614.0494084899095], [614.0494084899095], [614.0494084899095], [614.0494084899095], [614.0494084899095], [614.0494084899095], [614.0494084899095], [345.58761061946905], [345.58761061946905], [345.58761061946905], [345.58761061946905], [345.58761061946905], [345.58761061946905], [345.58761061946905], [345.58761061946905], [345.58761061946905], [345.58761061946905], [523.6380133715377], [523.6380133715377], [523.6380133715377], [523.6380133715377], [523.6380133715377], [523.6380133715377], [523.6380133715377], [523.6380133715377], [523.6380133715377], [523.6380133715377], [533.2551656280748], [533.2551656280748], [533.2551656280748], [533.2551656280748], [533.2551656280748], [533.2551656280748], [533.2551656280748], [533.2551656280748], [533.2551656280748], [533.2551656280748], [533.2551656280748], [533.2551656280748], [533.2551656280748], [533.2551656280748]], \"domain\": {\"x\": [0.0, 1.0], \"y\": [0.0, 1.0]}, \"hovertemplate\": \"labels=%{label}<br>item_id_sum=%{value}<br>parent=%{parent}<br>id=%{id}<br>item_id=%{color}<extra></extra>\", \"ids\": [\"USA/CA/CA_1/FOODS/FOODS_1\", \"USA/CA/CA_2/FOODS/FOODS_1\", \"USA/CA/CA_3/FOODS/FOODS_1\", \"USA/CA/CA_4/FOODS/FOODS_1\", \"USA/TX/TX_1/FOODS/FOODS_1\", \"USA/TX/TX_2/FOODS/FOODS_1\", \"USA/TX/TX_3/FOODS/FOODS_1\", \"USA/WI/WI_1/FOODS/FOODS_1\", \"USA/WI/WI_2/FOODS/FOODS_1\", \"USA/WI/WI_3/FOODS/FOODS_1\", \"USA/CA/CA_1/FOODS/FOODS_2\", \"USA/CA/CA_2/FOODS/FOODS_2\", \"USA/CA/CA_3/FOODS/FOODS_2\", \"USA/CA/CA_4/FOODS/FOODS_2\", \"USA/TX/TX_1/FOODS/FOODS_2\", \"USA/TX/TX_2/FOODS/FOODS_2\", \"USA/TX/TX_3/FOODS/FOODS_2\", \"USA/WI/WI_1/FOODS/FOODS_2\", \"USA/WI/WI_2/FOODS/FOODS_2\", \"USA/WI/WI_3/FOODS/FOODS_2\", \"USA/CA/CA_1/FOODS/FOODS_3\", \"USA/CA/CA_2/FOODS/FOODS_3\", \"USA/CA/CA_3/FOODS/FOODS_3\", \"USA/CA/CA_4/FOODS/FOODS_3\", \"USA/TX/TX_1/FOODS/FOODS_3\", \"USA/TX/TX_2/FOODS/FOODS_3\", \"USA/TX/TX_3/FOODS/FOODS_3\", \"USA/WI/WI_1/FOODS/FOODS_3\", \"USA/WI/WI_2/FOODS/FOODS_3\", \"USA/WI/WI_3/FOODS/FOODS_3\", \"USA/CA/CA_1/HOBBIES/HOBBIES_1\", \"USA/CA/CA_2/HOBBIES/HOBBIES_1\", \"USA/CA/CA_3/HOBBIES/HOBBIES_1\", \"USA/CA/CA_4/HOBBIES/HOBBIES_1\", \"USA/TX/TX_1/HOBBIES/HOBBIES_1\", \"USA/TX/TX_2/HOBBIES/HOBBIES_1\", \"USA/TX/TX_3/HOBBIES/HOBBIES_1\", \"USA/WI/WI_1/HOBBIES/HOBBIES_1\", \"USA/WI/WI_2/HOBBIES/HOBBIES_1\", \"USA/WI/WI_3/HOBBIES/HOBBIES_1\", \"USA/CA/CA_1/HOBBIES/HOBBIES_2\", \"USA/CA/CA_2/HOBBIES/HOBBIES_2\", \"USA/CA/CA_3/HOBBIES/HOBBIES_2\", \"USA/CA/CA_4/HOBBIES/HOBBIES_2\", \"USA/TX/TX_1/HOBBIES/HOBBIES_2\", \"USA/TX/TX_2/HOBBIES/HOBBIES_2\", \"USA/TX/TX_3/HOBBIES/HOBBIES_2\", \"USA/WI/WI_1/HOBBIES/HOBBIES_2\", \"USA/WI/WI_2/HOBBIES/HOBBIES_2\", \"USA/WI/WI_3/HOBBIES/HOBBIES_2\", \"USA/CA/CA_1/HOUSEHOLD/HOUSEHOLD_1\", \"USA/CA/CA_2/HOUSEHOLD/HOUSEHOLD_1\", \"USA/CA/CA_3/HOUSEHOLD/HOUSEHOLD_1\", \"USA/CA/CA_4/HOUSEHOLD/HOUSEHOLD_1\", \"USA/TX/TX_1/HOUSEHOLD/HOUSEHOLD_1\", \"USA/TX/TX_2/HOUSEHOLD/HOUSEHOLD_1\", \"USA/TX/TX_3/HOUSEHOLD/HOUSEHOLD_1\", \"USA/WI/WI_1/HOUSEHOLD/HOUSEHOLD_1\", \"USA/WI/WI_2/HOUSEHOLD/HOUSEHOLD_1\", \"USA/WI/WI_3/HOUSEHOLD/HOUSEHOLD_1\", \"USA/CA/CA_1/HOUSEHOLD/HOUSEHOLD_2\", \"USA/CA/CA_2/HOUSEHOLD/HOUSEHOLD_2\", \"USA/CA/CA_3/HOUSEHOLD/HOUSEHOLD_2\", \"USA/CA/CA_4/HOUSEHOLD/HOUSEHOLD_2\", \"USA/TX/TX_1/HOUSEHOLD/HOUSEHOLD_2\", \"USA/TX/TX_2/HOUSEHOLD/HOUSEHOLD_2\", \"USA/TX/TX_3/HOUSEHOLD/HOUSEHOLD_2\", \"USA/WI/WI_1/HOUSEHOLD/HOUSEHOLD_2\", \"USA/WI/WI_2/HOUSEHOLD/HOUSEHOLD_2\", \"USA/WI/WI_3/HOUSEHOLD/HOUSEHOLD_2\", \"USA/CA/CA_1/FOODS\", \"USA/CA/CA_2/FOODS\", \"USA/CA/CA_3/FOODS\", \"USA/CA/CA_4/FOODS\", \"USA/TX/TX_1/FOODS\", \"USA/TX/TX_2/FOODS\", \"USA/TX/TX_3/FOODS\", \"USA/WI/WI_1/FOODS\", \"USA/WI/WI_2/FOODS\", \"USA/WI/WI_3/FOODS\", \"USA/CA/CA_1/HOBBIES\", \"USA/CA/CA_2/HOBBIES\", \"USA/CA/CA_3/HOBBIES\", \"USA/CA/CA_4/HOBBIES\", \"USA/TX/TX_1/HOBBIES\", \"USA/TX/TX_2/HOBBIES\", \"USA/TX/TX_3/HOBBIES\", \"USA/WI/WI_1/HOBBIES\", \"USA/WI/WI_2/HOBBIES\", \"USA/WI/WI_3/HOBBIES\", \"USA/CA/CA_1/HOUSEHOLD\", \"USA/CA/CA_2/HOUSEHOLD\", \"USA/CA/CA_3/HOUSEHOLD\", \"USA/CA/CA_4/HOUSEHOLD\", \"USA/TX/TX_1/HOUSEHOLD\", \"USA/TX/TX_2/HOUSEHOLD\", \"USA/TX/TX_3/HOUSEHOLD\", \"USA/WI/WI_1/HOUSEHOLD\", \"USA/WI/WI_2/HOUSEHOLD\", \"USA/WI/WI_3/HOUSEHOLD\", \"USA/CA/CA_1\", \"USA/CA/CA_2\", \"USA/CA/CA_3\", \"USA/CA/CA_4\", \"USA/TX/TX_1\", \"USA/TX/TX_2\", \"USA/TX/TX_3\", \"USA/WI/WI_1\", \"USA/WI/WI_2\", \"USA/WI/WI_3\", \"USA/CA\", \"USA/TX\", \"USA/WI\", \"USA\"], \"labels\": [\"FOODS_1\", \"FOODS_1\", \"FOODS_1\", \"FOODS_1\", \"FOODS_1\", \"FOODS_1\", \"FOODS_1\", \"FOODS_1\", \"FOODS_1\", \"FOODS_1\", \"FOODS_2\", \"FOODS_2\", \"FOODS_2\", \"FOODS_2\", \"FOODS_2\", \"FOODS_2\", \"FOODS_2\", \"FOODS_2\", \"FOODS_2\", \"FOODS_2\", \"FOODS_3\", \"FOODS_3\", \"FOODS_3\", \"FOODS_3\", \"FOODS_3\", \"FOODS_3\", \"FOODS_3\", \"FOODS_3\", \"FOODS_3\", \"FOODS_3\", \"HOBBIES_1\", \"HOBBIES_1\", \"HOBBIES_1\", \"HOBBIES_1\", \"HOBBIES_1\", \"HOBBIES_1\", \"HOBBIES_1\", \"HOBBIES_1\", \"HOBBIES_1\", \"HOBBIES_1\", \"HOBBIES_2\", \"HOBBIES_2\", \"HOBBIES_2\", \"HOBBIES_2\", \"HOBBIES_2\", \"HOBBIES_2\", \"HOBBIES_2\", \"HOBBIES_2\", \"HOBBIES_2\", \"HOBBIES_2\", \"HOUSEHOLD_1\", \"HOUSEHOLD_1\", \"HOUSEHOLD_1\", \"HOUSEHOLD_1\", \"HOUSEHOLD_1\", \"HOUSEHOLD_1\", \"HOUSEHOLD_1\", \"HOUSEHOLD_1\", \"HOUSEHOLD_1\", \"HOUSEHOLD_1\", \"HOUSEHOLD_2\", \"HOUSEHOLD_2\", \"HOUSEHOLD_2\", \"HOUSEHOLD_2\", \"HOUSEHOLD_2\", \"HOUSEHOLD_2\", \"HOUSEHOLD_2\", \"HOUSEHOLD_2\", \"HOUSEHOLD_2\", \"HOUSEHOLD_2\", \"FOODS\", \"FOODS\", \"FOODS\", \"FOODS\", \"FOODS\", \"FOODS\", \"FOODS\", \"FOODS\", \"FOODS\", \"FOODS\", \"HOBBIES\", \"HOBBIES\", \"HOBBIES\", \"HOBBIES\", \"HOBBIES\", \"HOBBIES\", \"HOBBIES\", \"HOBBIES\", \"HOBBIES\", \"HOBBIES\", \"HOUSEHOLD\", \"HOUSEHOLD\", \"HOUSEHOLD\", \"HOUSEHOLD\", \"HOUSEHOLD\", \"HOUSEHOLD\", \"HOUSEHOLD\", \"HOUSEHOLD\", \"HOUSEHOLD\", \"HOUSEHOLD\", \"CA_1\", \"CA_2\", \"CA_3\", \"CA_4\", \"TX_1\", \"TX_2\", \"TX_3\", \"WI_1\", \"WI_2\", \"WI_3\", \"CA\", \"TX\", \"WI\", \"USA\"], \"marker\": {\"coloraxis\": \"coloraxis\", \"colors\": [216.0, 216.0, 216.0, 216.0, 216.0, 216.0, 216.0, 216.0, 216.0, 216.0, 398.0, 398.0, 398.0, 398.0, 398.0, 398.0, 398.0, 398.0, 398.0, 398.0, 823.0, 823.0, 823.0, 823.0, 823.0, 823.0, 823.0, 823.0, 823.0, 823.0, 416.0, 416.0, 416.0, 416.0, 416.0, 416.0, 416.0, 416.0, 416.0, 416.0, 149.0, 149.0, 149.0, 149.0, 149.0, 149.0, 149.0, 149.0, 149.0, 149.0, 532.0, 532.0, 532.0, 532.0, 532.0, 532.0, 532.0, 532.0, 532.0, 532.0, 515.0, 515.0, 515.0, 515.0, 515.0, 515.0, 515.0, 515.0, 515.0, 515.0, 614.0494084899095, 614.0494084899095, 614.0494084899095, 614.0494084899095, 614.0494084899095, 614.0494084899095, 614.0494084899095, 614.0494084899095, 614.0494084899095, 614.0494084899095, 345.58761061946905, 345.58761061946905, 345.58761061946905, 345.58761061946905, 345.58761061946905, 345.58761061946905, 345.58761061946905, 345.58761061946905, 345.58761061946905, 345.58761061946905, 523.6380133715377, 523.6380133715377, 523.6380133715377, 523.6380133715377, 523.6380133715377, 523.6380133715377, 523.6380133715377, 523.6380133715377, 523.6380133715377, 523.6380133715377, 533.2551656280748, 533.2551656280748, 533.2551656280748, 533.2551656280748, 533.2551656280748, 533.2551656280748, 533.2551656280748, 533.2551656280748, 533.2551656280748, 533.2551656280748, 533.2551656280748, 533.2551656280748, 533.2551656280748, 533.2551656280748]}, \"name\": \"\", \"parents\": [\"USA/CA/CA_1/FOODS\", \"USA/CA/CA_2/FOODS\", \"USA/CA/CA_3/FOODS\", \"USA/CA/CA_4/FOODS\", \"USA/TX/TX_1/FOODS\", \"USA/TX/TX_2/FOODS\", \"USA/TX/TX_3/FOODS\", \"USA/WI/WI_1/FOODS\", \"USA/WI/WI_2/FOODS\", \"USA/WI/WI_3/FOODS\", \"USA/CA/CA_1/FOODS\", \"USA/CA/CA_2/FOODS\", \"USA/CA/CA_3/FOODS\", \"USA/CA/CA_4/FOODS\", \"USA/TX/TX_1/FOODS\", \"USA/TX/TX_2/FOODS\", \"USA/TX/TX_3/FOODS\", \"USA/WI/WI_1/FOODS\", \"USA/WI/WI_2/FOODS\", \"USA/WI/WI_3/FOODS\", \"USA/CA/CA_1/FOODS\", \"USA/CA/CA_2/FOODS\", \"USA/CA/CA_3/FOODS\", \"USA/CA/CA_4/FOODS\", \"USA/TX/TX_1/FOODS\", \"USA/TX/TX_2/FOODS\", \"USA/TX/TX_3/FOODS\", \"USA/WI/WI_1/FOODS\", \"USA/WI/WI_2/FOODS\", \"USA/WI/WI_3/FOODS\", \"USA/CA/CA_1/HOBBIES\", \"USA/CA/CA_2/HOBBIES\", \"USA/CA/CA_3/HOBBIES\", \"USA/CA/CA_4/HOBBIES\", \"USA/TX/TX_1/HOBBIES\", \"USA/TX/TX_2/HOBBIES\", \"USA/TX/TX_3/HOBBIES\", \"USA/WI/WI_1/HOBBIES\", \"USA/WI/WI_2/HOBBIES\", \"USA/WI/WI_3/HOBBIES\", \"USA/CA/CA_1/HOBBIES\", \"USA/CA/CA_2/HOBBIES\", \"USA/CA/CA_3/HOBBIES\", \"USA/CA/CA_4/HOBBIES\", \"USA/TX/TX_1/HOBBIES\", \"USA/TX/TX_2/HOBBIES\", \"USA/TX/TX_3/HOBBIES\", \"USA/WI/WI_1/HOBBIES\", \"USA/WI/WI_2/HOBBIES\", \"USA/WI/WI_3/HOBBIES\", \"USA/CA/CA_1/HOUSEHOLD\", \"USA/CA/CA_2/HOUSEHOLD\", \"USA/CA/CA_3/HOUSEHOLD\", \"USA/CA/CA_4/HOUSEHOLD\", \"USA/TX/TX_1/HOUSEHOLD\", \"USA/TX/TX_2/HOUSEHOLD\", \"USA/TX/TX_3/HOUSEHOLD\", \"USA/WI/WI_1/HOUSEHOLD\", \"USA/WI/WI_2/HOUSEHOLD\", \"USA/WI/WI_3/HOUSEHOLD\", \"USA/CA/CA_1/HOUSEHOLD\", \"USA/CA/CA_2/HOUSEHOLD\", \"USA/CA/CA_3/HOUSEHOLD\", \"USA/CA/CA_4/HOUSEHOLD\", \"USA/TX/TX_1/HOUSEHOLD\", \"USA/TX/TX_2/HOUSEHOLD\", \"USA/TX/TX_3/HOUSEHOLD\", \"USA/WI/WI_1/HOUSEHOLD\", \"USA/WI/WI_2/HOUSEHOLD\", \"USA/WI/WI_3/HOUSEHOLD\", \"USA/CA/CA_1\", \"USA/CA/CA_2\", \"USA/CA/CA_3\", \"USA/CA/CA_4\", \"USA/TX/TX_1\", \"USA/TX/TX_2\", \"USA/TX/TX_3\", \"USA/WI/WI_1\", \"USA/WI/WI_2\", \"USA/WI/WI_3\", \"USA/CA/CA_1\", \"USA/CA/CA_2\", \"USA/CA/CA_3\", \"USA/CA/CA_4\", \"USA/TX/TX_1\", \"USA/TX/TX_2\", \"USA/TX/TX_3\", \"USA/WI/WI_1\", \"USA/WI/WI_2\", \"USA/WI/WI_3\", \"USA/CA/CA_1\", \"USA/CA/CA_2\", \"USA/CA/CA_3\", \"USA/CA/CA_4\", \"USA/TX/TX_1\", \"USA/TX/TX_2\", \"USA/TX/TX_3\", \"USA/WI/WI_1\", \"USA/WI/WI_2\", \"USA/WI/WI_3\", \"USA/CA\", \"USA/CA\", \"USA/CA\", \"USA/CA\", \"USA/TX\", \"USA/TX\", \"USA/TX\", \"USA/WI\", \"USA/WI\", \"USA/WI\", \"USA\", \"USA\", \"USA\", \"\"], \"type\": \"treemap\", \"values\": [216, 216, 216, 216, 216, 216, 216, 216, 216, 216, 398, 398, 398, 398, 398, 398, 398, 398, 398, 398, 823, 823, 823, 823, 823, 823, 823, 823, 823, 823, 416, 416, 416, 416, 416, 416, 416, 416, 416, 416, 149, 149, 149, 149, 149, 149, 149, 149, 149, 149, 532, 532, 532, 532, 532, 532, 532, 532, 532, 532, 515, 515, 515, 515, 515, 515, 515, 515, 515, 515, 1437, 1437, 1437, 1437, 1437, 1437, 1437, 1437, 1437, 1437, 565, 565, 565, 565, 565, 565, 565, 565, 565, 565, 1047, 1047, 1047, 1047, 1047, 1047, 1047, 1047, 1047, 1047, 3049, 3049, 3049, 3049, 3049, 3049, 3049, 3049, 3049, 3049, 12196, 9147, 9147, 30490]}],                        {\"coloraxis\": {\"colorbar\": {\"title\": {\"text\": \"item_id\"}}, \"colorscale\": [[0.0, \"rgb(103,0,31)\"], [0.1, \"rgb(178,24,43)\"], [0.2, \"rgb(214,96,77)\"], [0.3, \"rgb(244,165,130)\"], [0.4, \"rgb(253,219,199)\"], [0.5, \"rgb(247,247,247)\"], [0.6, \"rgb(209,229,240)\"], [0.7, \"rgb(146,197,222)\"], [0.8, \"rgb(67,147,195)\"], [0.9, \"rgb(33,102,172)\"], [1.0, \"rgb(5,48,97)\"]]}, \"legend\": {\"tracegroupgap\": 0}, \"template\": {\"data\": {\"bar\": [{\"error_x\": {\"color\": \"#2a3f5f\"}, \"error_y\": {\"color\": \"#2a3f5f\"}, \"marker\": {\"line\": {\"color\": \"#E5ECF6\", \"width\": 0.5}}, \"type\": \"bar\"}], \"barpolar\": [{\"marker\": {\"line\": {\"color\": \"#E5ECF6\", \"width\": 0.5}}, \"type\": \"barpolar\"}], \"carpet\": [{\"aaxis\": {\"endlinecolor\": \"#2a3f5f\", \"gridcolor\": \"white\", \"linecolor\": \"white\", \"minorgridcolor\": \"white\", \"startlinecolor\": \"#2a3f5f\"}, \"baxis\": {\"endlinecolor\": \"#2a3f5f\", \"gridcolor\": \"white\", \"linecolor\": \"white\", \"minorgridcolor\": \"white\", \"startlinecolor\": \"#2a3f5f\"}, \"type\": \"carpet\"}], \"choropleth\": [{\"colorbar\": {\"outlinewidth\": 0, \"ticks\": \"\"}, \"type\": \"choropleth\"}], \"contour\": [{\"colorbar\": {\"outlinewidth\": 0, \"ticks\": \"\"}, \"colorscale\": [[0.0, \"#0d0887\"], [0.1111111111111111, \"#46039f\"], [0.2222222222222222, \"#7201a8\"], [0.3333333333333333, \"#9c179e\"], [0.4444444444444444, \"#bd3786\"], [0.5555555555555556, \"#d8576b\"], [0.6666666666666666, \"#ed7953\"], [0.7777777777777778, \"#fb9f3a\"], [0.8888888888888888, \"#fdca26\"], [1.0, \"#f0f921\"]], \"type\": \"contour\"}], \"contourcarpet\": [{\"colorbar\": {\"outlinewidth\": 0, \"ticks\": \"\"}, \"type\": \"contourcarpet\"}], \"heatmap\": [{\"colorbar\": {\"outlinewidth\": 0, \"ticks\": \"\"}, \"colorscale\": [[0.0, \"#0d0887\"], [0.1111111111111111, \"#46039f\"], [0.2222222222222222, \"#7201a8\"], [0.3333333333333333, \"#9c179e\"], [0.4444444444444444, \"#bd3786\"], [0.5555555555555556, \"#d8576b\"], [0.6666666666666666, \"#ed7953\"], [0.7777777777777778, \"#fb9f3a\"], [0.8888888888888888, \"#fdca26\"], [1.0, \"#f0f921\"]], \"type\": \"heatmap\"}], \"heatmapgl\": [{\"colorbar\": {\"outlinewidth\": 0, \"ticks\": \"\"}, \"colorscale\": [[0.0, \"#0d0887\"], [0.1111111111111111, \"#46039f\"], [0.2222222222222222, \"#7201a8\"], [0.3333333333333333, \"#9c179e\"], [0.4444444444444444, \"#bd3786\"], [0.5555555555555556, \"#d8576b\"], [0.6666666666666666, \"#ed7953\"], [0.7777777777777778, \"#fb9f3a\"], [0.8888888888888888, \"#fdca26\"], [1.0, \"#f0f921\"]], \"type\": \"heatmapgl\"}], \"histogram\": [{\"marker\": {\"colorbar\": {\"outlinewidth\": 0, \"ticks\": \"\"}}, \"type\": \"histogram\"}], \"histogram2d\": [{\"colorbar\": {\"outlinewidth\": 0, \"ticks\": \"\"}, \"colorscale\": [[0.0, \"#0d0887\"], [0.1111111111111111, \"#46039f\"], [0.2222222222222222, \"#7201a8\"], [0.3333333333333333, \"#9c179e\"], [0.4444444444444444, \"#bd3786\"], [0.5555555555555556, \"#d8576b\"], [0.6666666666666666, \"#ed7953\"], [0.7777777777777778, \"#fb9f3a\"], [0.8888888888888888, \"#fdca26\"], [1.0, \"#f0f921\"]], \"type\": \"histogram2d\"}], \"histogram2dcontour\": [{\"colorbar\": {\"outlinewidth\": 0, \"ticks\": \"\"}, \"colorscale\": [[0.0, \"#0d0887\"], [0.1111111111111111, \"#46039f\"], [0.2222222222222222, \"#7201a8\"], [0.3333333333333333, \"#9c179e\"], [0.4444444444444444, \"#bd3786\"], [0.5555555555555556, \"#d8576b\"], [0.6666666666666666, \"#ed7953\"], [0.7777777777777778, \"#fb9f3a\"], [0.8888888888888888, \"#fdca26\"], [1.0, \"#f0f921\"]], \"type\": \"histogram2dcontour\"}], \"mesh3d\": [{\"colorbar\": {\"outlinewidth\": 0, \"ticks\": \"\"}, \"type\": \"mesh3d\"}], \"parcoords\": [{\"line\": {\"colorbar\": {\"outlinewidth\": 0, \"ticks\": \"\"}}, \"type\": \"parcoords\"}], \"pie\": [{\"automargin\": true, \"type\": \"pie\"}], \"scatter\": [{\"marker\": {\"colorbar\": {\"outlinewidth\": 0, \"ticks\": \"\"}}, \"type\": \"scatter\"}], \"scatter3d\": [{\"line\": {\"colorbar\": {\"outlinewidth\": 0, \"ticks\": \"\"}}, \"marker\": {\"colorbar\": {\"outlinewidth\": 0, \"ticks\": \"\"}}, \"type\": \"scatter3d\"}], \"scattercarpet\": [{\"marker\": {\"colorbar\": {\"outlinewidth\": 0, \"ticks\": \"\"}}, \"type\": \"scattercarpet\"}], \"scattergeo\": [{\"marker\": {\"colorbar\": {\"outlinewidth\": 0, \"ticks\": \"\"}}, \"type\": \"scattergeo\"}], \"scattergl\": [{\"marker\": {\"colorbar\": {\"outlinewidth\": 0, \"ticks\": \"\"}}, \"type\": \"scattergl\"}], \"scattermapbox\": [{\"marker\": {\"colorbar\": {\"outlinewidth\": 0, \"ticks\": \"\"}}, \"type\": \"scattermapbox\"}], \"scatterpolar\": [{\"marker\": {\"colorbar\": {\"outlinewidth\": 0, \"ticks\": \"\"}}, \"type\": \"scatterpolar\"}], \"scatterpolargl\": [{\"marker\": {\"colorbar\": {\"outlinewidth\": 0, \"ticks\": \"\"}}, \"type\": \"scatterpolargl\"}], \"scatterternary\": [{\"marker\": {\"colorbar\": {\"outlinewidth\": 0, \"ticks\": \"\"}}, \"type\": \"scatterternary\"}], \"surface\": [{\"colorbar\": {\"outlinewidth\": 0, \"ticks\": \"\"}, \"colorscale\": [[0.0, \"#0d0887\"], [0.1111111111111111, \"#46039f\"], [0.2222222222222222, \"#7201a8\"], [0.3333333333333333, \"#9c179e\"], [0.4444444444444444, \"#bd3786\"], [0.5555555555555556, \"#d8576b\"], [0.6666666666666666, \"#ed7953\"], [0.7777777777777778, \"#fb9f3a\"], [0.8888888888888888, \"#fdca26\"], [1.0, \"#f0f921\"]], \"type\": \"surface\"}], \"table\": [{\"cells\": {\"fill\": {\"color\": \"#EBF0F8\"}, \"line\": {\"color\": \"white\"}}, \"header\": {\"fill\": {\"color\": \"#C8D4E3\"}, \"line\": {\"color\": \"white\"}}, \"type\": \"table\"}]}, \"layout\": {\"annotationdefaults\": {\"arrowcolor\": \"#2a3f5f\", \"arrowhead\": 0, \"arrowwidth\": 1}, \"autotypenumbers\": \"strict\", \"coloraxis\": {\"colorbar\": {\"outlinewidth\": 0, \"ticks\": \"\"}}, \"colorscale\": {\"diverging\": [[0, \"#8e0152\"], [0.1, \"#c51b7d\"], [0.2, \"#de77ae\"], [0.3, \"#f1b6da\"], [0.4, \"#fde0ef\"], [0.5, \"#f7f7f7\"], [0.6, \"#e6f5d0\"], [0.7, \"#b8e186\"], [0.8, \"#7fbc41\"], [0.9, \"#4d9221\"], [1, \"#276419\"]], \"sequential\": [[0.0, \"#0d0887\"], [0.1111111111111111, \"#46039f\"], [0.2222222222222222, \"#7201a8\"], [0.3333333333333333, \"#9c179e\"], [0.4444444444444444, \"#bd3786\"], [0.5555555555555556, \"#d8576b\"], [0.6666666666666666, \"#ed7953\"], [0.7777777777777778, \"#fb9f3a\"], [0.8888888888888888, \"#fdca26\"], [1.0, \"#f0f921\"]], \"sequentialminus\": [[0.0, \"#0d0887\"], [0.1111111111111111, \"#46039f\"], [0.2222222222222222, \"#7201a8\"], [0.3333333333333333, \"#9c179e\"], [0.4444444444444444, \"#bd3786\"], [0.5555555555555556, \"#d8576b\"], [0.6666666666666666, \"#ed7953\"], [0.7777777777777778, \"#fb9f3a\"], [0.8888888888888888, \"#fdca26\"], [1.0, \"#f0f921\"]]}, \"colorway\": [\"#636efa\", \"#EF553B\", \"#00cc96\", \"#ab63fa\", \"#FFA15A\", \"#19d3f3\", \"#FF6692\", \"#B6E880\", \"#FF97FF\", \"#FECB52\"], \"font\": {\"color\": \"#2a3f5f\"}, \"geo\": {\"bgcolor\": \"white\", \"lakecolor\": \"white\", \"landcolor\": \"#E5ECF6\", \"showlakes\": true, \"showland\": true, \"subunitcolor\": \"white\"}, \"hoverlabel\": {\"align\": \"left\"}, \"hovermode\": \"closest\", \"mapbox\": {\"style\": \"light\"}, \"paper_bgcolor\": \"white\", \"plot_bgcolor\": \"#E5ECF6\", \"polar\": {\"angularaxis\": {\"gridcolor\": \"white\", \"linecolor\": \"white\", \"ticks\": \"\"}, \"bgcolor\": \"#E5ECF6\", \"radialaxis\": {\"gridcolor\": \"white\", \"linecolor\": \"white\", \"ticks\": \"\"}}, \"scene\": {\"xaxis\": {\"backgroundcolor\": \"#E5ECF6\", \"gridcolor\": \"white\", \"gridwidth\": 2, \"linecolor\": \"white\", \"showbackground\": true, \"ticks\": \"\", \"zerolinecolor\": \"white\"}, \"yaxis\": {\"backgroundcolor\": \"#E5ECF6\", \"gridcolor\": \"white\", \"gridwidth\": 2, \"linecolor\": \"white\", \"showbackground\": true, \"ticks\": \"\", \"zerolinecolor\": \"white\"}, \"zaxis\": {\"backgroundcolor\": \"#E5ECF6\", \"gridcolor\": \"white\", \"gridwidth\": 2, \"linecolor\": \"white\", \"showbackground\": true, \"ticks\": \"\", \"zerolinecolor\": \"white\"}}, \"shapedefaults\": {\"line\": {\"color\": \"#2a3f5f\"}}, \"ternary\": {\"aaxis\": {\"gridcolor\": \"white\", \"linecolor\": \"white\", \"ticks\": \"\"}, \"baxis\": {\"gridcolor\": \"white\", \"linecolor\": \"white\", \"ticks\": \"\"}, \"bgcolor\": \"#E5ECF6\", \"caxis\": {\"gridcolor\": \"white\", \"linecolor\": \"white\", \"ticks\": \"\"}}, \"title\": {\"x\": 0.05}, \"xaxis\": {\"automargin\": true, \"gridcolor\": \"white\", \"linecolor\": \"white\", \"ticks\": \"\", \"title\": {\"standoff\": 15}, \"zerolinecolor\": \"white\", \"zerolinewidth\": 2}, \"yaxis\": {\"automargin\": true, \"gridcolor\": \"white\", \"linecolor\": \"white\", \"ticks\": \"\", \"title\": {\"standoff\": 15}, \"zerolinecolor\": \"white\", \"zerolinewidth\": 2}}}, \"title\": {\"text\": \"Walmart: Distribution of items\"}, \"treemapcolorway\": [\"pink\", \"lightgray\"]},                        {\"responsive\": true}                    ).then(function(){\n",
       "                            \n",
       "var gd = document.getElementById('967dcbec-a848-4221-9389-e3031b413c40');\n",
       "var x = new MutationObserver(function (mutations, observer) {{\n",
       "        var display = window.getComputedStyle(gd).display;\n",
       "        if (!display || display === 'none') {{\n",
       "            console.log([gd, 'removed!']);\n",
       "            Plotly.purge(gd);\n",
       "            observer.disconnect();\n",
       "        }}\n",
       "}});\n",
       "\n",
       "// Listen for the removal of the full notebook cells\n",
       "var notebookContainer = gd.closest('#notebook-container');\n",
       "if (notebookContainer) {{\n",
       "    x.observe(notebookContainer, {childList: true});\n",
       "}}\n",
       "\n",
       "// Listen for the clearing of the current output cell\n",
       "var outputEl = gd.closest('.output');\n",
       "if (outputEl) {{\n",
       "    x.observe(outputEl, {childList: true});\n",
       "}}\n",
       "\n",
       "                        })                };                });            </script>        </div>"
      ]
     },
     "metadata": {},
     "output_type": "display_data"
    }
   ],
   "source": [
    "import plotly.express as px\n",
    "gp = sales.groupby(['state_id','store_id','cat_id','dept_id'],as_index=False)\n",
    "gp = gp['item_id'].count().dropna()\n",
    "gp['USA'] = 'USA'\n",
    "\n",
    "fig = px.treemap(gp, path=['USA', 'state_id', 'store_id', 'cat_id', 'dept_id'], values='item_id',\n",
    "                  color='item_id',\n",
    "                  color_continuous_scale = 'RdBu',\n",
    "                  title='Walmart: Distribution of items')\n",
    "            \n",
    "fig.update_layout(treemapcolorway = [\"pink\", \"lightgray\"])\n",
    "fig.show()"
   ]
  },
  {
   "cell_type": "markdown",
   "id": "ac91d863",
   "metadata": {},
   "source": [
    "## 3.3. EDA on Sales dataset"
   ]
  },
  {
   "cell_type": "code",
   "execution_count": 182,
   "id": "9d601e7b",
   "metadata": {},
   "outputs": [
    {
     "data": {
      "text/html": [
       "<div>\n",
       "<style scoped>\n",
       "    .dataframe tbody tr th:only-of-type {\n",
       "        vertical-align: middle;\n",
       "    }\n",
       "\n",
       "    .dataframe tbody tr th {\n",
       "        vertical-align: top;\n",
       "    }\n",
       "\n",
       "    .dataframe thead th {\n",
       "        text-align: right;\n",
       "    }\n",
       "</style>\n",
       "<table border=\"1\" class=\"dataframe\">\n",
       "  <thead>\n",
       "    <tr style=\"text-align: right;\">\n",
       "      <th></th>\n",
       "      <th>id</th>\n",
       "      <th>item_id</th>\n",
       "      <th>dept_id</th>\n",
       "      <th>cat_id</th>\n",
       "      <th>store_id</th>\n",
       "      <th>state_id</th>\n",
       "      <th>d_1</th>\n",
       "      <th>d_2</th>\n",
       "      <th>d_3</th>\n",
       "      <th>d_4</th>\n",
       "      <th>d_5</th>\n",
       "      <th>d_6</th>\n",
       "      <th>d_7</th>\n",
       "      <th>d_8</th>\n",
       "      <th>d_9</th>\n",
       "      <th>d_10</th>\n",
       "      <th>d_11</th>\n",
       "      <th>d_12</th>\n",
       "      <th>d_13</th>\n",
       "      <th>d_14</th>\n",
       "      <th>d_15</th>\n",
       "      <th>d_16</th>\n",
       "      <th>d_17</th>\n",
       "      <th>d_18</th>\n",
       "      <th>d_19</th>\n",
       "      <th>...</th>\n",
       "      <th>d_1889</th>\n",
       "      <th>d_1890</th>\n",
       "      <th>d_1891</th>\n",
       "      <th>d_1892</th>\n",
       "      <th>d_1893</th>\n",
       "      <th>d_1894</th>\n",
       "      <th>d_1895</th>\n",
       "      <th>d_1896</th>\n",
       "      <th>d_1897</th>\n",
       "      <th>d_1898</th>\n",
       "      <th>d_1899</th>\n",
       "      <th>d_1900</th>\n",
       "      <th>d_1901</th>\n",
       "      <th>d_1902</th>\n",
       "      <th>d_1903</th>\n",
       "      <th>d_1904</th>\n",
       "      <th>d_1905</th>\n",
       "      <th>d_1906</th>\n",
       "      <th>d_1907</th>\n",
       "      <th>d_1908</th>\n",
       "      <th>d_1909</th>\n",
       "      <th>d_1910</th>\n",
       "      <th>d_1911</th>\n",
       "      <th>d_1912</th>\n",
       "      <th>d_1913</th>\n",
       "    </tr>\n",
       "  </thead>\n",
       "  <tbody>\n",
       "    <tr>\n",
       "      <th>0</th>\n",
       "      <td>HOBBIES_1_001_CA_1_validation</td>\n",
       "      <td>HOBBIES_1_001</td>\n",
       "      <td>HOBBIES_1</td>\n",
       "      <td>HOBBIES</td>\n",
       "      <td>CA_1</td>\n",
       "      <td>CA</td>\n",
       "      <td>0</td>\n",
       "      <td>0</td>\n",
       "      <td>0</td>\n",
       "      <td>0</td>\n",
       "      <td>0</td>\n",
       "      <td>0</td>\n",
       "      <td>0</td>\n",
       "      <td>0</td>\n",
       "      <td>0</td>\n",
       "      <td>0</td>\n",
       "      <td>0</td>\n",
       "      <td>0</td>\n",
       "      <td>0</td>\n",
       "      <td>0</td>\n",
       "      <td>0</td>\n",
       "      <td>0</td>\n",
       "      <td>0</td>\n",
       "      <td>0</td>\n",
       "      <td>0</td>\n",
       "      <td>...</td>\n",
       "      <td>0</td>\n",
       "      <td>0</td>\n",
       "      <td>0</td>\n",
       "      <td>1</td>\n",
       "      <td>0</td>\n",
       "      <td>4</td>\n",
       "      <td>2</td>\n",
       "      <td>3</td>\n",
       "      <td>0</td>\n",
       "      <td>1</td>\n",
       "      <td>2</td>\n",
       "      <td>0</td>\n",
       "      <td>0</td>\n",
       "      <td>0</td>\n",
       "      <td>1</td>\n",
       "      <td>1</td>\n",
       "      <td>3</td>\n",
       "      <td>0</td>\n",
       "      <td>1</td>\n",
       "      <td>1</td>\n",
       "      <td>1</td>\n",
       "      <td>3</td>\n",
       "      <td>0</td>\n",
       "      <td>1</td>\n",
       "      <td>1</td>\n",
       "    </tr>\n",
       "    <tr>\n",
       "      <th>1</th>\n",
       "      <td>HOBBIES_1_002_CA_1_validation</td>\n",
       "      <td>HOBBIES_1_002</td>\n",
       "      <td>HOBBIES_1</td>\n",
       "      <td>HOBBIES</td>\n",
       "      <td>CA_1</td>\n",
       "      <td>CA</td>\n",
       "      <td>0</td>\n",
       "      <td>0</td>\n",
       "      <td>0</td>\n",
       "      <td>0</td>\n",
       "      <td>0</td>\n",
       "      <td>0</td>\n",
       "      <td>0</td>\n",
       "      <td>0</td>\n",
       "      <td>0</td>\n",
       "      <td>0</td>\n",
       "      <td>0</td>\n",
       "      <td>0</td>\n",
       "      <td>0</td>\n",
       "      <td>0</td>\n",
       "      <td>0</td>\n",
       "      <td>0</td>\n",
       "      <td>0</td>\n",
       "      <td>0</td>\n",
       "      <td>0</td>\n",
       "      <td>...</td>\n",
       "      <td>0</td>\n",
       "      <td>0</td>\n",
       "      <td>0</td>\n",
       "      <td>0</td>\n",
       "      <td>0</td>\n",
       "      <td>0</td>\n",
       "      <td>0</td>\n",
       "      <td>0</td>\n",
       "      <td>0</td>\n",
       "      <td>0</td>\n",
       "      <td>0</td>\n",
       "      <td>0</td>\n",
       "      <td>0</td>\n",
       "      <td>0</td>\n",
       "      <td>0</td>\n",
       "      <td>0</td>\n",
       "      <td>0</td>\n",
       "      <td>0</td>\n",
       "      <td>0</td>\n",
       "      <td>0</td>\n",
       "      <td>1</td>\n",
       "      <td>0</td>\n",
       "      <td>0</td>\n",
       "      <td>0</td>\n",
       "      <td>0</td>\n",
       "    </tr>\n",
       "    <tr>\n",
       "      <th>2</th>\n",
       "      <td>HOBBIES_1_003_CA_1_validation</td>\n",
       "      <td>HOBBIES_1_003</td>\n",
       "      <td>HOBBIES_1</td>\n",
       "      <td>HOBBIES</td>\n",
       "      <td>CA_1</td>\n",
       "      <td>CA</td>\n",
       "      <td>0</td>\n",
       "      <td>0</td>\n",
       "      <td>0</td>\n",
       "      <td>0</td>\n",
       "      <td>0</td>\n",
       "      <td>0</td>\n",
       "      <td>0</td>\n",
       "      <td>0</td>\n",
       "      <td>0</td>\n",
       "      <td>0</td>\n",
       "      <td>0</td>\n",
       "      <td>0</td>\n",
       "      <td>0</td>\n",
       "      <td>0</td>\n",
       "      <td>0</td>\n",
       "      <td>0</td>\n",
       "      <td>0</td>\n",
       "      <td>0</td>\n",
       "      <td>0</td>\n",
       "      <td>...</td>\n",
       "      <td>0</td>\n",
       "      <td>0</td>\n",
       "      <td>0</td>\n",
       "      <td>1</td>\n",
       "      <td>0</td>\n",
       "      <td>0</td>\n",
       "      <td>0</td>\n",
       "      <td>1</td>\n",
       "      <td>0</td>\n",
       "      <td>0</td>\n",
       "      <td>0</td>\n",
       "      <td>0</td>\n",
       "      <td>0</td>\n",
       "      <td>1</td>\n",
       "      <td>2</td>\n",
       "      <td>2</td>\n",
       "      <td>1</td>\n",
       "      <td>2</td>\n",
       "      <td>1</td>\n",
       "      <td>1</td>\n",
       "      <td>1</td>\n",
       "      <td>0</td>\n",
       "      <td>1</td>\n",
       "      <td>1</td>\n",
       "      <td>1</td>\n",
       "    </tr>\n",
       "    <tr>\n",
       "      <th>3</th>\n",
       "      <td>HOBBIES_1_004_CA_1_validation</td>\n",
       "      <td>HOBBIES_1_004</td>\n",
       "      <td>HOBBIES_1</td>\n",
       "      <td>HOBBIES</td>\n",
       "      <td>CA_1</td>\n",
       "      <td>CA</td>\n",
       "      <td>0</td>\n",
       "      <td>0</td>\n",
       "      <td>0</td>\n",
       "      <td>0</td>\n",
       "      <td>0</td>\n",
       "      <td>0</td>\n",
       "      <td>0</td>\n",
       "      <td>0</td>\n",
       "      <td>0</td>\n",
       "      <td>0</td>\n",
       "      <td>0</td>\n",
       "      <td>0</td>\n",
       "      <td>0</td>\n",
       "      <td>0</td>\n",
       "      <td>0</td>\n",
       "      <td>0</td>\n",
       "      <td>0</td>\n",
       "      <td>0</td>\n",
       "      <td>0</td>\n",
       "      <td>...</td>\n",
       "      <td>0</td>\n",
       "      <td>3</td>\n",
       "      <td>1</td>\n",
       "      <td>2</td>\n",
       "      <td>1</td>\n",
       "      <td>3</td>\n",
       "      <td>1</td>\n",
       "      <td>0</td>\n",
       "      <td>2</td>\n",
       "      <td>5</td>\n",
       "      <td>4</td>\n",
       "      <td>2</td>\n",
       "      <td>0</td>\n",
       "      <td>3</td>\n",
       "      <td>0</td>\n",
       "      <td>1</td>\n",
       "      <td>0</td>\n",
       "      <td>5</td>\n",
       "      <td>4</td>\n",
       "      <td>1</td>\n",
       "      <td>0</td>\n",
       "      <td>1</td>\n",
       "      <td>3</td>\n",
       "      <td>7</td>\n",
       "      <td>2</td>\n",
       "    </tr>\n",
       "    <tr>\n",
       "      <th>4</th>\n",
       "      <td>HOBBIES_1_005_CA_1_validation</td>\n",
       "      <td>HOBBIES_1_005</td>\n",
       "      <td>HOBBIES_1</td>\n",
       "      <td>HOBBIES</td>\n",
       "      <td>CA_1</td>\n",
       "      <td>CA</td>\n",
       "      <td>0</td>\n",
       "      <td>0</td>\n",
       "      <td>0</td>\n",
       "      <td>0</td>\n",
       "      <td>0</td>\n",
       "      <td>0</td>\n",
       "      <td>0</td>\n",
       "      <td>0</td>\n",
       "      <td>0</td>\n",
       "      <td>0</td>\n",
       "      <td>0</td>\n",
       "      <td>0</td>\n",
       "      <td>0</td>\n",
       "      <td>0</td>\n",
       "      <td>0</td>\n",
       "      <td>0</td>\n",
       "      <td>0</td>\n",
       "      <td>0</td>\n",
       "      <td>0</td>\n",
       "      <td>...</td>\n",
       "      <td>4</td>\n",
       "      <td>0</td>\n",
       "      <td>1</td>\n",
       "      <td>4</td>\n",
       "      <td>0</td>\n",
       "      <td>1</td>\n",
       "      <td>0</td>\n",
       "      <td>1</td>\n",
       "      <td>0</td>\n",
       "      <td>1</td>\n",
       "      <td>1</td>\n",
       "      <td>2</td>\n",
       "      <td>0</td>\n",
       "      <td>1</td>\n",
       "      <td>1</td>\n",
       "      <td>2</td>\n",
       "      <td>1</td>\n",
       "      <td>1</td>\n",
       "      <td>0</td>\n",
       "      <td>1</td>\n",
       "      <td>1</td>\n",
       "      <td>2</td>\n",
       "      <td>2</td>\n",
       "      <td>2</td>\n",
       "      <td>4</td>\n",
       "    </tr>\n",
       "  </tbody>\n",
       "</table>\n",
       "<p>5 rows × 1919 columns</p>\n",
       "</div>"
      ],
      "text/plain": [
       "                              id        item_id    dept_id   cat_id store_id  \\\n",
       "0  HOBBIES_1_001_CA_1_validation  HOBBIES_1_001  HOBBIES_1  HOBBIES     CA_1   \n",
       "1  HOBBIES_1_002_CA_1_validation  HOBBIES_1_002  HOBBIES_1  HOBBIES     CA_1   \n",
       "2  HOBBIES_1_003_CA_1_validation  HOBBIES_1_003  HOBBIES_1  HOBBIES     CA_1   \n",
       "3  HOBBIES_1_004_CA_1_validation  HOBBIES_1_004  HOBBIES_1  HOBBIES     CA_1   \n",
       "4  HOBBIES_1_005_CA_1_validation  HOBBIES_1_005  HOBBIES_1  HOBBIES     CA_1   \n",
       "\n",
       "  state_id  d_1  d_2  d_3  d_4  d_5  d_6  d_7  d_8  d_9  d_10  d_11  d_12  \\\n",
       "0       CA    0    0    0    0    0    0    0    0    0     0     0     0   \n",
       "1       CA    0    0    0    0    0    0    0    0    0     0     0     0   \n",
       "2       CA    0    0    0    0    0    0    0    0    0     0     0     0   \n",
       "3       CA    0    0    0    0    0    0    0    0    0     0     0     0   \n",
       "4       CA    0    0    0    0    0    0    0    0    0     0     0     0   \n",
       "\n",
       "   d_13  d_14  d_15  d_16  d_17  d_18  d_19  ...  d_1889  d_1890  d_1891  \\\n",
       "0     0     0     0     0     0     0     0  ...       0       0       0   \n",
       "1     0     0     0     0     0     0     0  ...       0       0       0   \n",
       "2     0     0     0     0     0     0     0  ...       0       0       0   \n",
       "3     0     0     0     0     0     0     0  ...       0       3       1   \n",
       "4     0     0     0     0     0     0     0  ...       4       0       1   \n",
       "\n",
       "   d_1892  d_1893  d_1894  d_1895  d_1896  d_1897  d_1898  d_1899  d_1900  \\\n",
       "0       1       0       4       2       3       0       1       2       0   \n",
       "1       0       0       0       0       0       0       0       0       0   \n",
       "2       1       0       0       0       1       0       0       0       0   \n",
       "3       2       1       3       1       0       2       5       4       2   \n",
       "4       4       0       1       0       1       0       1       1       2   \n",
       "\n",
       "   d_1901  d_1902  d_1903  d_1904  d_1905  d_1906  d_1907  d_1908  d_1909  \\\n",
       "0       0       0       1       1       3       0       1       1       1   \n",
       "1       0       0       0       0       0       0       0       0       1   \n",
       "2       0       1       2       2       1       2       1       1       1   \n",
       "3       0       3       0       1       0       5       4       1       0   \n",
       "4       0       1       1       2       1       1       0       1       1   \n",
       "\n",
       "   d_1910  d_1911  d_1912  d_1913  \n",
       "0       3       0       1       1  \n",
       "1       0       0       0       0  \n",
       "2       0       1       1       1  \n",
       "3       1       3       7       2  \n",
       "4       2       2       2       4  \n",
       "\n",
       "[5 rows x 1919 columns]"
      ]
     },
     "execution_count": 182,
     "metadata": {},
     "output_type": "execute_result"
    }
   ],
   "source": [
    "# print first 5 rows of sales dataset\n",
    "sales.head()"
   ]
  },
  {
   "cell_type": "code",
   "execution_count": 183,
   "id": "a25b0afd",
   "metadata": {},
   "outputs": [
    {
     "data": {
      "text/plain": [
       "CA    12196\n",
       "TX     9147\n",
       "WI     9147\n",
       "Name: state_id, dtype: int64"
      ]
     },
     "execution_count": 183,
     "metadata": {},
     "output_type": "execute_result"
    }
   ],
   "source": [
    "total_items = sales['state_id'].value_counts()\n",
    "total_items "
   ]
  },
  {
   "cell_type": "code",
   "execution_count": 184,
   "id": "6e290364",
   "metadata": {},
   "outputs": [],
   "source": [
    "sales['item_total']=sales.iloc[:,6:1947].sum(axis=1)"
   ]
  },
  {
   "cell_type": "code",
   "execution_count": 185,
   "id": "b61b2b14",
   "metadata": {},
   "outputs": [],
   "source": [
    "total_state = sales.groupby(['state_id'])['item_total'].sum()\n",
    "total_cat = sales.groupby(['cat_id'])['item_total'].sum()\n",
    "total_cat_by_state = sales.groupby(['state_id','cat_id'])['item_total'].sum()\n",
    "total_store_by_state = sales.groupby(['store_id','state_id'])['item_total'].sum()"
   ]
  },
  {
   "cell_type": "markdown",
   "id": "86f1d699",
   "metadata": {},
   "source": [
    "### 3.3.1. Visualize Sales data"
   ]
  },
  {
   "cell_type": "code",
   "execution_count": 186,
   "id": "a5df3431",
   "metadata": {},
   "outputs": [
    {
     "data": {
      "text/plain": [
       "(array([0, 1, 2]), [Text(0, 0, 'CA'), Text(1, 0, 'TX'), Text(2, 0, 'WI')])"
      ]
     },
     "execution_count": 186,
     "metadata": {},
     "output_type": "execute_result"
    },
    {
     "data": {
      "image/png": "[encoded data removed]",
      "text/plain": [
       "<Figure size 720x432 with 1 Axes>"
      ]
     },
     "metadata": {
      "needs_background": "light"
     },
     "output_type": "display_data"
    }
   ],
   "source": [
    "import matplotlib.pyplot as plt\n",
    "#total_state.plot(kind='bar')\n",
    "#create bar plot with custom aesthetics\n",
    "total_state.plot(kind='bar', title='Total items sold by State', figsize=(10, 6))\n",
    "\n",
    "#rotate x-axis ticks vertically\n",
    "plt.xticks(rotation=0)"
   ]
  },
  {
   "cell_type": "code",
   "execution_count": 187,
   "id": "f6251c28",
   "metadata": {},
   "outputs": [
    {
     "data": {
      "image/png": "[encoded data removed]",
      "text/plain": [
       "<Figure size 1080x360 with 1 Axes>"
      ]
     },
     "metadata": {
      "needs_background": "light"
     },
     "output_type": "display_data"
    }
   ],
   "source": [
    "# Sales over time by category type\n",
    "sales.groupby('cat_id').count()['id'].sort_values().plot(kind='barh', title='Count of Items by Category', figsize=(15,5))\n",
    "plt.show()\n"
   ]
  },
  {
   "cell_type": "markdown",
   "id": "f7324945",
   "metadata": {},
   "source": [
    "**Observations:**\n",
    "\n",
    "- FOODS category has the highest number of items.\n",
    "- The number of items in descending order are FOODs, HOUSEHOLD, and HOBBIES."
   ]
  },
  {
   "cell_type": "code",
   "execution_count": 188,
   "id": "6cb1ad25",
   "metadata": {
    "scrolled": true
   },
   "outputs": [
    {
     "data": {
      "image/png": "[encoded data removed]",
      "text/plain": [
       "<Figure size 1080x360 with 1 Axes>"
      ]
     },
     "metadata": {
      "needs_background": "light"
     },
     "output_type": "display_data"
    }
   ],
   "source": [
    "# Sales over time by store ID\n",
    "sales.groupby('dept_id').count()['id'].sort_values().plot(kind='barh', title='Count of Items by store', figsize=(15,5))\n",
    "plt.show()\n"
   ]
  },
  {
   "cell_type": "markdown",
   "id": "8a1acf35",
   "metadata": {},
   "source": [
    "*From above analysis, it can be seen that the most frequent item that sells is:*\n",
    "\n",
    "- Category: Food\n",
    "- State: California\n",
    "- Department: Foods_3\n",
    "    "
   ]
  },
  {
   "cell_type": "code",
   "execution_count": 189,
   "id": "e7bc7e94",
   "metadata": {},
   "outputs": [
    {
     "data": {
      "text/plain": [
       "<AxesSubplot:title={'center':'total items sold by state and category'}, xlabel='state_id,cat_id'>"
      ]
     },
     "execution_count": 189,
     "metadata": {},
     "output_type": "execute_result"
    },
    {
     "data": {
      "image/png": "[encoded data removed]",
      "text/plain": [
       "<Figure size 432x288 with 1 Axes>"
      ]
     },
     "metadata": {
      "needs_background": "light"
     },
     "output_type": "display_data"
    }
   ],
   "source": [
    "sales.groupby(['state_id','cat_id'])['item_total'].sum().plot.bar(title='total items sold by state and category')\n"
   ]
  },
  {
   "cell_type": "code",
   "execution_count": 190,
   "id": "2292101a",
   "metadata": {},
   "outputs": [
    {
     "data": {
      "text/plain": [
       "<AxesSubplot:title={'center':'Total items sold by Stores'}, xlabel='store_id,state_id'>"
      ]
     },
     "execution_count": 190,
     "metadata": {},
     "output_type": "execute_result"
    },
    {
     "data": {
      "image/png": "[encoded data removed]",
      "text/plain": [
       "<Figure size 432x288 with 1 Axes>"
      ]
     },
     "metadata": {
      "needs_background": "light"
     },
     "output_type": "display_data"
    }
   ],
   "source": [
    "sales.groupby(['store_id','state_id'])['item_total'].sum().plot.bar(title='Total items sold by Stores')\n"
   ]
  },
  {
   "cell_type": "markdown",
   "id": "d2ea396f",
   "metadata": {},
   "source": [
    "### 3.3.2. Visualize data for a single item that sells frequently"
   ]
  },
  {
   "cell_type": "code",
   "execution_count": 191,
   "id": "3fe8f3fa",
   "metadata": {},
   "outputs": [
    {
     "data": {
      "image/png": "[encoded data removed]",
      "text/plain": [
       "<Figure size 1080x360 with 1 Axes>"
      ]
     },
     "metadata": {
      "needs_background": "light"
     },
     "output_type": "display_data"
    }
   ],
   "source": [
    "d_cols=[c for c in sales.columns if 'd_' in c]\n",
    "\n",
    "# chaining the following operations below:\n",
    "# 1. Select a particular item\n",
    "# 2. Set id as index, & keep only sales data column starting with d_\n",
    "# 3. Transpose so that dataframe is a column\n",
    "# 4. Plot the data\n",
    "sales.loc[sales['id']=='FOODS_3_090_CA_3_validation'] \\\n",
    ".set_index('id')[d_cols] \\\n",
    ".T \\\n",
    ".plot(figsize=(15,5), title='FOODS_3_090_CA_3 sales by \"d\" number', xlabel='day_numbers', ylabel='sales', color='cornflowerblue')\n",
    "plt.show()"
   ]
  },
  {
   "cell_type": "markdown",
   "id": "3adba3de",
   "metadata": {},
   "source": [
    "**Observations**\n",
    "\n",
    "- The sales curve is very inconsistent, which implies that there are so many factors that affect the sales on a given day.\n",
    "- For some days the sales curve is flatline which means the item is unavailable.\n",
    "- Item is unavailable for many number of days"
   ]
  },
  {
   "cell_type": "markdown",
   "id": "3f9d7e49",
   "metadata": {},
   "source": [
    "### EDA of sells price data"
   ]
  },
  {
   "cell_type": "code",
   "execution_count": 192,
   "id": "157bcb82",
   "metadata": {},
   "outputs": [
    {
     "data": {
      "text/html": [
       "<div>\n",
       "<style scoped>\n",
       "    .dataframe tbody tr th:only-of-type {\n",
       "        vertical-align: middle;\n",
       "    }\n",
       "\n",
       "    .dataframe tbody tr th {\n",
       "        vertical-align: top;\n",
       "    }\n",
       "\n",
       "    .dataframe thead th {\n",
       "        text-align: right;\n",
       "    }\n",
       "</style>\n",
       "<table border=\"1\" class=\"dataframe\">\n",
       "  <thead>\n",
       "    <tr style=\"text-align: right;\">\n",
       "      <th></th>\n",
       "      <th>store_id</th>\n",
       "      <th>item_id</th>\n",
       "      <th>wm_yr_wk</th>\n",
       "      <th>sell_price</th>\n",
       "    </tr>\n",
       "  </thead>\n",
       "  <tbody>\n",
       "    <tr>\n",
       "      <th>0</th>\n",
       "      <td>CA_1</td>\n",
       "      <td>HOBBIES_1_001</td>\n",
       "      <td>11325</td>\n",
       "      <td>9.58</td>\n",
       "    </tr>\n",
       "    <tr>\n",
       "      <th>1</th>\n",
       "      <td>CA_1</td>\n",
       "      <td>HOBBIES_1_001</td>\n",
       "      <td>11326</td>\n",
       "      <td>9.58</td>\n",
       "    </tr>\n",
       "    <tr>\n",
       "      <th>2</th>\n",
       "      <td>CA_1</td>\n",
       "      <td>HOBBIES_1_001</td>\n",
       "      <td>11327</td>\n",
       "      <td>8.26</td>\n",
       "    </tr>\n",
       "    <tr>\n",
       "      <th>3</th>\n",
       "      <td>CA_1</td>\n",
       "      <td>HOBBIES_1_001</td>\n",
       "      <td>11328</td>\n",
       "      <td>8.26</td>\n",
       "    </tr>\n",
       "    <tr>\n",
       "      <th>4</th>\n",
       "      <td>CA_1</td>\n",
       "      <td>HOBBIES_1_001</td>\n",
       "      <td>11329</td>\n",
       "      <td>8.26</td>\n",
       "    </tr>\n",
       "  </tbody>\n",
       "</table>\n",
       "</div>"
      ],
      "text/plain": [
       "  store_id        item_id  wm_yr_wk  sell_price\n",
       "0     CA_1  HOBBIES_1_001     11325        9.58\n",
       "1     CA_1  HOBBIES_1_001     11326        9.58\n",
       "2     CA_1  HOBBIES_1_001     11327        8.26\n",
       "3     CA_1  HOBBIES_1_001     11328        8.26\n",
       "4     CA_1  HOBBIES_1_001     11329        8.26"
      ]
     },
     "execution_count": 192,
     "metadata": {},
     "output_type": "execute_result"
    }
   ],
   "source": [
    "price.head()"
   ]
  },
  {
   "cell_type": "code",
   "execution_count": 193,
   "id": "a2b9697d",
   "metadata": {},
   "outputs": [],
   "source": [
    "# Add a category column to price data \n",
    "price['Category'] = price['item_id'].apply(lambda x: x.split('_')[0])"
   ]
  },
  {
   "cell_type": "code",
   "execution_count": 194,
   "id": "e511a20f",
   "metadata": {},
   "outputs": [
    {
     "data": {
      "image/png": "[encoded data removed]",
      "text/plain": [
       "<Figure size 1080x360 with 3 Axes>"
      ]
     },
     "metadata": {
      "needs_background": "light"
     },
     "output_type": "display_data"
    }
   ],
   "source": [
    "fig, axs = plt.subplots(1,3,figsize=(15,5))\n",
    "ax_id=0\n",
    "\n",
    "for cat, d in price.groupby('Category'):\n",
    "    # Do the log of values of sell_price columns & plot it's histogram distribution\n",
    "    d['sell_price'].apply(np.log1p).plot(kind='hist', bins=50,ax=axs[ax_id], color=next(color_cycle), title=f\"Distribution of {cat} prices\")\n",
    "    ax_id+=1\n",
    "        \n",
    "plt.tight_layout()\n",
    "plt.show()"
   ]
  },
  {
   "cell_type": "markdown",
   "id": "bc5e7554",
   "metadata": {},
   "source": [
    "### EDA of Calendar data"
   ]
  },
  {
   "cell_type": "code",
   "execution_count": 195,
   "id": "397ea777",
   "metadata": {},
   "outputs": [
    {
     "data": {
      "text/plain": [
       "(1969, 14)"
      ]
     },
     "execution_count": 195,
     "metadata": {},
     "output_type": "execute_result"
    }
   ],
   "source": [
    "cal.shape"
   ]
  },
  {
   "cell_type": "code",
   "execution_count": 196,
   "id": "13b583c5",
   "metadata": {},
   "outputs": [
    {
     "name": "stdout",
     "output_type": "stream",
     "text": [
      "162\n",
      "5\n",
      "162\n",
      "5\n"
     ]
    }
   ],
   "source": [
    "print(cal['event_name_1'].count())\n",
    "print(cal['event_name_2'].count())\n",
    "print(cal['event_type_1'].count())\n",
    "print(cal['event_type_2'].count())"
   ]
  },
  {
   "cell_type": "code",
   "execution_count": 197,
   "id": "fc2c0f78",
   "metadata": {},
   "outputs": [
    {
     "name": "stdout",
     "output_type": "stream",
     "text": [
      "unique count of event_names_1: 30\n",
      "unique events of event_names_1: [nan 'SuperBowl' 'ValentinesDay' 'PresidentsDay' 'LentStart' 'LentWeek2'\n",
      " 'StPatricksDay' 'Purim End' 'OrthodoxEaster' 'Pesach End' 'Cinco De Mayo'\n",
      " \"Mother's day\" 'MemorialDay' 'NBAFinalsStart' 'NBAFinalsEnd'\n",
      " \"Father's day\" 'IndependenceDay' 'Ramadan starts' 'Eid al-Fitr'\n",
      " 'LaborDay' 'ColumbusDay' 'Halloween' 'EidAlAdha' 'VeteransDay'\n",
      " 'Thanksgiving' 'Christmas' 'Chanukah End' 'NewYear' 'OrthodoxChristmas'\n",
      " 'MartinLutherKingDay' 'Easter']\n",
      "------------------------------------------------------\n",
      "unique count of event_names_2: 4\n",
      "unique events of event_names_2: [nan 'Easter' 'Cinco De Mayo' 'OrthodoxEaster' \"Father's day\"]\n",
      "------------------------------------------------------\n",
      "unique count of event_type_1: 4\n",
      "unique events of event_type_1: [nan 'Sporting' 'Cultural' 'National' 'Religious']\n",
      "------------------------------------------------------\n",
      "unique count of event_type_2: 2\n",
      "unique events of event_type_2: [nan 'Cultural' 'Religious']\n"
     ]
    }
   ],
   "source": [
    "#print unique counts of events and event names:\n",
    "\n",
    "print(\"unique count of event_names_1:\", cal['event_name_1'].nunique())\n",
    "print(\"unique events of event_names_1:\", cal['event_name_1'].unique())\n",
    "print('------------------------------------------------------')\n",
    "print(\"unique count of event_names_2:\", cal['event_name_2'].nunique())\n",
    "print(\"unique events of event_names_2:\",cal['event_name_2'].unique())\n",
    "print('------------------------------------------------------')\n",
    "print(\"unique count of event_type_1:\", cal['event_type_1'].nunique())\n",
    "print(\"unique events of event_type_1:\", cal['event_type_1'].unique())\n",
    "print('------------------------------------------------------')\n",
    "print(\"unique count of event_type_2:\", cal['event_type_2'].nunique())\n",
    "print(\"unique events of event_type_2:\", cal['event_type_2'].unique())"
   ]
  },
  {
   "cell_type": "code",
   "execution_count": 198,
   "id": "4c4da527",
   "metadata": {},
   "outputs": [
    {
     "name": "stdout",
     "output_type": "stream",
     "text": [
      "30\n",
      "{nan, 'LaborDay', 'Chanukah End', 'VeteransDay', 'SuperBowl', 'OrthodoxChristmas', \"Mother's day\", 'Purim End', \"Father's day\", 'OrthodoxEaster', 'Easter', 'Pesach End', 'Thanksgiving', 'ValentinesDay', 'Eid al-Fitr', 'NBAFinalsStart', 'MartinLutherKingDay', 'EidAlAdha', 'NBAFinalsEnd', 'ColumbusDay', 'Cinco De Mayo', 'Halloween', 'NewYear', 'LentStart', 'PresidentsDay', 'IndependenceDay', 'StPatricksDay', 'Christmas', 'Ramadan starts', 'LentWeek2', 'MemorialDay'}\n"
     ]
    }
   ],
   "source": [
    "# unique event names\n",
    "en1=set(cal['event_name_1'])\n",
    "en2=set(cal['event_name_2'])\n",
    "print(len(en1.union(en2))-1)\n",
    "print(en1.union(en2))"
   ]
  },
  {
   "cell_type": "code",
   "execution_count": 199,
   "id": "61952678",
   "metadata": {},
   "outputs": [
    {
     "name": "stdout",
     "output_type": "stream",
     "text": [
      "4\n",
      "{nan, 'National', 'Religious', 'Sporting', 'Cultural'}\n"
     ]
    }
   ],
   "source": [
    "# unique event types\n",
    "et1=set(cal['event_type_1'])\n",
    "et2=set(cal['event_type_2'])\n",
    "print(len(et1.union(et2))-1)\n",
    "print(et1.union(et2))"
   ]
  },
  {
   "cell_type": "markdown",
   "id": "8d33dc08",
   "metadata": {},
   "source": [
    "**Observation**\n",
    "\n",
    "- There are 30 unique events\n",
    "\n",
    "- There are 4 unique event types"
   ]
  },
  {
   "cell_type": "code",
   "execution_count": 200,
   "id": "8526c10a",
   "metadata": {},
   "outputs": [],
   "source": [
    "# finding not null values for determining event in the calendar dataset"
   ]
  },
  {
   "cell_type": "code",
   "execution_count": 201,
   "id": "93cc9403",
   "metadata": {},
   "outputs": [
    {
     "name": "stdout",
     "output_type": "stream",
     "text": [
      "total not null values in event_name_1 are 162\n",
      "total not null values in event_name_2 are 5\n"
     ]
    }
   ],
   "source": [
    "en1=len(cal.loc[cal['event_name_1'].notnull()])\n",
    "en2=len(cal.loc[cal['event_name_2'].notnull()])\n",
    "print(\"total not null values in event_name_1 are\" ,en1)\n",
    "print(\"total not null values in event_name_2 are\" ,en2)"
   ]
  },
  {
   "cell_type": "code",
   "execution_count": 202,
   "id": "e2991141",
   "metadata": {},
   "outputs": [
    {
     "data": {
      "text/plain": [
       "Index(['date', 'wm_yr_wk', 'weekday', 'wday', 'month', 'year', 'd',\n",
       "       'event_name_1', 'event_type_1', 'event_name_2', 'event_type_2',\n",
       "       'snap_CA', 'snap_TX', 'snap_WI'],\n",
       "      dtype='object')"
      ]
     },
     "execution_count": 202,
     "metadata": {},
     "output_type": "execute_result"
    }
   ],
   "source": [
    "cal.columns"
   ]
  },
  {
   "cell_type": "code",
   "execution_count": 203,
   "id": "6c3324cc",
   "metadata": {},
   "outputs": [
    {
     "name": "stdout",
     "output_type": "stream",
     "text": [
      "[0 0 0 ... 0 0 0]\n"
     ]
    }
   ],
   "source": [
    "print(cal['snap_CA'].values)\n",
    "#print(cal['snap_TX'])\n",
    "#print(cal['snap_WI'])"
   ]
  },
  {
   "cell_type": "markdown",
   "id": "2830fb78",
   "metadata": {},
   "source": [
    "Observations from calendar data:\n",
    "- SNAP follows a diiferent pattern in different state.\n",
    "- SNAP is allowed on the first ten days in CA, it follows the pattern 101-011 in TX and follows the pattern 011 in WI.\n",
    "- There are total 30 unique events which belong to 5 unique types.\n",
    "- There are total 162 not null values in event_name_1 and 5 not null values in event_name_2 for approx 4.5 years, which results these events occur every year."
   ]
  },
  {
   "cell_type": "markdown",
   "id": "bfad9baa",
   "metadata": {},
   "source": [
    "# Downcasting and reducing memory usage "
   ]
  },
  {
   "cell_type": "code",
   "execution_count": null,
   "id": "d744c7bd",
   "metadata": {},
   "outputs": [],
   "source": [
    "# def reduce_mem_usage(df, verbose=True):\n",
    "#     numerics = ['int16', 'int32', 'int64', 'float16', 'float32', 'float64']\n",
    "#     start_mem = df.memory_usage().sum() / 1024**2    \n",
    "#     for col in df.columns:\n",
    "#         col_type = df[col].dtypes\n",
    "#         if col_type in numerics:\n",
    "#             c_min = df[col].min()\n",
    "#             c_max = df[col].max()\n",
    "#             if str(col_type)[:3] == 'int':\n",
    "#                 if c_min > np.iinfo(np.int8).min and c_max < np.iinfo(np.int8).max:\n",
    "#                     df[col] = df[col].astype(np.int8)\n",
    "#                 elif c_min > np.iinfo(np.int16).min and c_max < np.iinfo(np.int16).max:\n",
    "#                     df[col] = df[col].astype(np.int16)\n",
    "#                 elif c_min > np.iinfo(np.int32).min and c_max < np.iinfo(np.int32).max:\n",
    "#                     df[col] = df[col].astype(np.int32)\n",
    "#                 elif c_min > np.iinfo(np.int64).min and c_max < np.iinfo(np.int64).max:\n",
    "#                     df[col] = df[col].astype(np.int64)  \n",
    "#             else:\n",
    "#                 if c_min > np.finfo(np.float16).min and c_max < np.finfo(np.float16).max:\n",
    "#                     df[col] = df[col].astype(np.float16)\n",
    "#                 elif c_min > np.finfo(np.float32).min and c_max < np.finfo(np.float32).max:\n",
    "#                     df[col] = df[col].astype(np.float32)\n",
    "#                 else:\n",
    "#                     df[col] = df[col].astype(np.float64)    \n",
    "#     end_mem = df.memory_usage().sum() / 1024**2\n",
    "#     if verbose: print('Mem. usage decreased to {:5.2f} Mb ({:.1f}% reduction)'.format(end_mem, 100 * (start_mem - end_mem) / start_mem))\n",
    "#     return df"
   ]
  },
  {
   "cell_type": "code",
   "execution_count": 285,
   "id": "30ed3d92",
   "metadata": {},
   "outputs": [],
   "source": [
    "def reduce_mem_usage(df, verbose=True):\n",
    "\n",
    "    cols = df.dtypes.index.tolist()\n",
    "    types = df.dtypes.values.tolist()\n",
    "\n",
    "    for i,t in enumerate(types):\n",
    "\n",
    "        if 'int' in str(t):\n",
    "            if df[cols[i]].min() > np.iinfo(np.int8).min and df[cols[i]].max() < np.iinfo(np.int8).max:\n",
    "                df[cols[i]] = df[cols[i]].astype(np.int8)\n",
    "            elif df[cols[i]].min() > np.iinfo(np.int16).min and df[cols[i]].max() < np.iinfo(np.int16).max:\n",
    "                df[cols[i]] = df[cols[i]].astype(np.int16)\n",
    "            elif df[cols[i]].min() > np.iinfo(np.int32).min and df[cols[i]].max() < np.iinfo(np.int32).max:\n",
    "                df[cols[i]] = df[cols[i]].astype(np.int32)\n",
    "            else:\n",
    "                df[cols[i]] = df[cols[i]].astype(np.int64)\n",
    "\n",
    "        elif 'float' in str(t):\n",
    "            if df[cols[i]].min() > np.finfo(np.float16).min and df[cols[i]].max() < np.finfo(np.float16).max:\n",
    "                df[cols[i]] = df[cols[i]].astype(np.float16)\n",
    "            elif df[cols[i]].min() > np.finfo(np.float32).min and df[cols[i]].max() < np.finfo(np.float32).max:\n",
    "                df[cols[i]] = df[cols[i]].astype(np.float32)\n",
    "            else:\n",
    "                df[cols[i]] = df[cols[i]].astype(np.float64)\n",
    "\n",
    "        elif t == object:\n",
    "            if cols[i] == 'date':\n",
    "                df[cols[i]] = pd.to_datetime(df[cols[i]], format='%Y-%m-%d')\n",
    "            else:\n",
    "                df[cols[i]] = df[cols[i]].astype('category')\n",
    "    return df  "
   ]
  },
  {
   "cell_type": "code",
   "execution_count": 286,
   "id": "676bb1cf",
   "metadata": {},
   "outputs": [],
   "source": [
    "sales_b_d=sales.memory_usage().sum()\n",
    "sales_b_d=np.round(sales_b_d/(1024*1024),1)\n",
    "\n",
    "cal_b_d=cal.memory_usage().sum()\n",
    "cal_b_d=np.round(cal_b_d/(1024*1024),1)\n",
    "\n",
    "price_b_d=price.memory_usage().sum()\n",
    "price_b_d=np.round(price_b_d/(1024*1024),1)"
   ]
  },
  {
   "cell_type": "code",
   "execution_count": 287,
   "id": "3e85ec3b",
   "metadata": {},
   "outputs": [],
   "source": [
    "sales = reduce_mem_usage(sales)\n",
    "cal = reduce_mem_usage(cal)\n",
    "price = reduce_mem_usage(price)\n"
   ]
  },
  {
   "cell_type": "code",
   "execution_count": 273,
   "id": "d81ed3e3",
   "metadata": {},
   "outputs": [],
   "source": [
    "sales_a_d=sales.memory_usage().sum()\n",
    "sales_a_d=np.round(sales_a_d/(1024*1024),1)\n",
    "\n",
    "cal_a_d=cal.memory_usage().sum()\n",
    "cal_a_d=np.round(cal_a_d/(1024*1024),1)\n",
    "\n",
    "price_a_d=price.memory_usage().sum()\n",
    "price_a_d=np.round(price_a_d/(1024*1024),1)"
   ]
  },
  {
   "cell_type": "code",
   "execution_count": 274,
   "id": "ce20e03b",
   "metadata": {},
   "outputs": [
    {
     "data": {
      "text/html": [
       "<div>\n",
       "<style scoped>\n",
       "    .dataframe tbody tr th:only-of-type {\n",
       "        vertical-align: middle;\n",
       "    }\n",
       "\n",
       "    .dataframe tbody tr th {\n",
       "        vertical-align: top;\n",
       "    }\n",
       "\n",
       "    .dataframe thead th {\n",
       "        text-align: right;\n",
       "    }\n",
       "</style>\n",
       "<table border=\"1\" class=\"dataframe\">\n",
       "  <thead>\n",
       "    <tr style=\"text-align: right;\">\n",
       "      <th></th>\n",
       "      <th>df</th>\n",
       "      <th>Before downcasting</th>\n",
       "      <th>After downcasting</th>\n",
       "      <th>memory_decrease</th>\n",
       "    </tr>\n",
       "  </thead>\n",
       "  <tbody>\n",
       "    <tr>\n",
       "      <th>0</th>\n",
       "      <td>sales</td>\n",
       "      <td>446.4</td>\n",
       "      <td>95.2</td>\n",
       "      <td>78.673835</td>\n",
       "    </tr>\n",
       "    <tr>\n",
       "      <th>1</th>\n",
       "      <td>calendar</td>\n",
       "      <td>0.2</td>\n",
       "      <td>0.1</td>\n",
       "      <td>50.000000</td>\n",
       "    </tr>\n",
       "    <tr>\n",
       "      <th>2</th>\n",
       "      <td>price</td>\n",
       "      <td>208.8</td>\n",
       "      <td>45.8</td>\n",
       "      <td>78.065134</td>\n",
       "    </tr>\n",
       "  </tbody>\n",
       "</table>\n",
       "</div>"
      ],
      "text/plain": [
       "         df  Before downcasting  After downcasting  memory_decrease\n",
       "0     sales               446.4               95.2        78.673835\n",
       "1  calendar                 0.2                0.1        50.000000\n",
       "2     price               208.8               45.8        78.065134"
      ]
     },
     "execution_count": 274,
     "metadata": {},
     "output_type": "execute_result"
    }
   ],
   "source": [
    "data = {'df':['sales','calendar','price'],\n",
    "       'Before downcasting':[sales_b_d,cal_b_d,price_b_d],\n",
    "       'After downcasting':[sales_a_d,cal_a_d,price_a_d]}\n",
    "\n",
    "df = pd.DataFrame(data)\n",
    "memory_decrease=(df[\"Before downcasting\"]-df[\"After downcasting\"])/df[\"Before downcasting\"]\n",
    "memory_decrease=memory_decrease*100\n",
    "\n",
    "df[\"memory_decrease\"] = memory_decrease\n",
    "df"
   ]
  },
  {
   "cell_type": "markdown",
   "id": "f6232d9c",
   "metadata": {},
   "source": [
    "## Data transformation and Merge Datasets"
   ]
  },
  {
   "cell_type": "markdown",
   "id": "60d38d3e",
   "metadata": {},
   "source": [
    "#### Since it is a time-series forecasting problem,\n",
    "\n",
    "Let's follow below approach to process existing datasets into a supervised learning single dataset:\n",
    "1) Convert wide data format to a long data format\n",
    "2) Merge all the datasets ie. sales data, calendar data, and sell prices data to a single dataframe on “d_” (day number).\n",
    "\n",
    "Once datasets are merged, handled the missing values as it comes from sell price data, through mean imputation techniques."
   ]
  },
  {
   "cell_type": "code",
   "execution_count": 277,
   "id": "256f02b1",
   "metadata": {},
   "outputs": [
    {
     "name": "stdout",
     "output_type": "stream",
     "text": [
      "['date', 'weekday', 'd', 'event_name_1', 'event_type_1', 'event_name_2', 'event_type_2']\n",
      "['store_id', 'item_id']\n",
      "['id', 'item_id', 'dept_id', 'cat_id', 'store_id', 'state_id']\n"
     ]
    }
   ],
   "source": [
    "# Find categorical columns in all 3 dataframes\n",
    "catcols_cal = cal.select_dtypes(include=['object']).columns.tolist()\n",
    "print (catcols_cal)\n",
    "catcols_price = price.select_dtypes(include=['object']).columns.tolist()\n",
    "print(catcols_price)\n",
    "catcols_sales=sales.select_dtypes(include=['object']).columns.tolist()\n",
    "print(catcols_sales)"
   ]
  },
  {
   "cell_type": "code",
   "execution_count": 278,
   "id": "782b8dd4",
   "metadata": {},
   "outputs": [],
   "source": [
    "cal[\"date\"] = pd.to_datetime(cal[\"date\"])"
   ]
  },
  {
   "cell_type": "code",
   "execution_count": 279,
   "id": "367fe091",
   "metadata": {},
   "outputs": [],
   "source": [
    "# drop some calendar features\n",
    "cal.drop(['weekday', 'wday', 'month', 'year'], inplace = True, axis = 1)"
   ]
  },
  {
   "cell_type": "code",
   "execution_count": 280,
   "id": "cc56e8c8",
   "metadata": {},
   "outputs": [],
   "source": [
    "# melt the data\n",
    "# Unpivot a DataFrame from wide to long format\n",
    "# This function pd.melt() is useful to massage a DataFrame into a format where one or more columns are identifier variables (id_vars), \n",
    "#while all other columns, considered measured variables (value_vars), are “unpivoted” to the row axis, leaving just two non-identifier columns, ‘variable’ and ‘value’.\n",
    "\n",
    "wide_to_long_dataframe = pd.melt(sales, id_vars=['id', 'item_id', 'dept_id', 'cat_id', 'store_id', 'state_id'], var_name='d', value_name='sales')\n",
    "wide_to_long_dataframe = wide_to_long_dataframe.dropna()\n",
    "\n"
   ]
  },
  {
   "cell_type": "code",
   "execution_count": 281,
   "id": "aa344dc2",
   "metadata": {},
   "outputs": [
    {
     "name": "stderr",
     "output_type": "stream",
     "text": [
      "<ipython-input-270-f987d85821a1>:26: DeprecationWarning:\n",
      "\n",
      "`np.object` is a deprecated alias for the builtin `object`. To silence this warning, use `object` by itself. Doing this will not modify any behavior and is safe. \n",
      "Deprecated in NumPy 1.20; for more details and guidance: https://numpy.org/devdocs/release/1.20.0-notes.html#deprecations\n",
      "\n"
     ]
    },
    {
     "data": {
      "text/html": [
       "<div>\n",
       "<style scoped>\n",
       "    .dataframe tbody tr th:only-of-type {\n",
       "        vertical-align: middle;\n",
       "    }\n",
       "\n",
       "    .dataframe tbody tr th {\n",
       "        vertical-align: top;\n",
       "    }\n",
       "\n",
       "    .dataframe thead th {\n",
       "        text-align: right;\n",
       "    }\n",
       "</style>\n",
       "<table border=\"1\" class=\"dataframe\">\n",
       "  <thead>\n",
       "    <tr style=\"text-align: right;\">\n",
       "      <th></th>\n",
       "      <th>id</th>\n",
       "      <th>item_id</th>\n",
       "      <th>dept_id</th>\n",
       "      <th>cat_id</th>\n",
       "      <th>store_id</th>\n",
       "      <th>state_id</th>\n",
       "      <th>d</th>\n",
       "      <th>sales</th>\n",
       "    </tr>\n",
       "  </thead>\n",
       "  <tbody>\n",
       "    <tr>\n",
       "      <th>0</th>\n",
       "      <td>HOBBIES_1_001_CA_1_validation</td>\n",
       "      <td>HOBBIES_1_001</td>\n",
       "      <td>HOBBIES_1</td>\n",
       "      <td>HOBBIES</td>\n",
       "      <td>CA_1</td>\n",
       "      <td>CA</td>\n",
       "      <td>d_1</td>\n",
       "      <td>0</td>\n",
       "    </tr>\n",
       "    <tr>\n",
       "      <th>1</th>\n",
       "      <td>HOBBIES_1_002_CA_1_validation</td>\n",
       "      <td>HOBBIES_1_002</td>\n",
       "      <td>HOBBIES_1</td>\n",
       "      <td>HOBBIES</td>\n",
       "      <td>CA_1</td>\n",
       "      <td>CA</td>\n",
       "      <td>d_1</td>\n",
       "      <td>0</td>\n",
       "    </tr>\n",
       "    <tr>\n",
       "      <th>2</th>\n",
       "      <td>HOBBIES_1_003_CA_1_validation</td>\n",
       "      <td>HOBBIES_1_003</td>\n",
       "      <td>HOBBIES_1</td>\n",
       "      <td>HOBBIES</td>\n",
       "      <td>CA_1</td>\n",
       "      <td>CA</td>\n",
       "      <td>d_1</td>\n",
       "      <td>0</td>\n",
       "    </tr>\n",
       "    <tr>\n",
       "      <th>3</th>\n",
       "      <td>HOBBIES_1_004_CA_1_validation</td>\n",
       "      <td>HOBBIES_1_004</td>\n",
       "      <td>HOBBIES_1</td>\n",
       "      <td>HOBBIES</td>\n",
       "      <td>CA_1</td>\n",
       "      <td>CA</td>\n",
       "      <td>d_1</td>\n",
       "      <td>0</td>\n",
       "    </tr>\n",
       "    <tr>\n",
       "      <th>4</th>\n",
       "      <td>HOBBIES_1_005_CA_1_validation</td>\n",
       "      <td>HOBBIES_1_005</td>\n",
       "      <td>HOBBIES_1</td>\n",
       "      <td>HOBBIES</td>\n",
       "      <td>CA_1</td>\n",
       "      <td>CA</td>\n",
       "      <td>d_1</td>\n",
       "      <td>0</td>\n",
       "    </tr>\n",
       "    <tr>\n",
       "      <th>...</th>\n",
       "      <td>...</td>\n",
       "      <td>...</td>\n",
       "      <td>...</td>\n",
       "      <td>...</td>\n",
       "      <td>...</td>\n",
       "      <td>...</td>\n",
       "      <td>...</td>\n",
       "      <td>...</td>\n",
       "    </tr>\n",
       "    <tr>\n",
       "      <th>58327365</th>\n",
       "      <td>FOODS_3_823_WI_3_validation</td>\n",
       "      <td>FOODS_3_823</td>\n",
       "      <td>FOODS_3</td>\n",
       "      <td>FOODS</td>\n",
       "      <td>WI_3</td>\n",
       "      <td>WI</td>\n",
       "      <td>d_1913</td>\n",
       "      <td>1</td>\n",
       "    </tr>\n",
       "    <tr>\n",
       "      <th>58327366</th>\n",
       "      <td>FOODS_3_824_WI_3_validation</td>\n",
       "      <td>FOODS_3_824</td>\n",
       "      <td>FOODS_3</td>\n",
       "      <td>FOODS</td>\n",
       "      <td>WI_3</td>\n",
       "      <td>WI</td>\n",
       "      <td>d_1913</td>\n",
       "      <td>0</td>\n",
       "    </tr>\n",
       "    <tr>\n",
       "      <th>58327367</th>\n",
       "      <td>FOODS_3_825_WI_3_validation</td>\n",
       "      <td>FOODS_3_825</td>\n",
       "      <td>FOODS_3</td>\n",
       "      <td>FOODS</td>\n",
       "      <td>WI_3</td>\n",
       "      <td>WI</td>\n",
       "      <td>d_1913</td>\n",
       "      <td>0</td>\n",
       "    </tr>\n",
       "    <tr>\n",
       "      <th>58327368</th>\n",
       "      <td>FOODS_3_826_WI_3_validation</td>\n",
       "      <td>FOODS_3_826</td>\n",
       "      <td>FOODS_3</td>\n",
       "      <td>FOODS</td>\n",
       "      <td>WI_3</td>\n",
       "      <td>WI</td>\n",
       "      <td>d_1913</td>\n",
       "      <td>3</td>\n",
       "    </tr>\n",
       "    <tr>\n",
       "      <th>58327369</th>\n",
       "      <td>FOODS_3_827_WI_3_validation</td>\n",
       "      <td>FOODS_3_827</td>\n",
       "      <td>FOODS_3</td>\n",
       "      <td>FOODS</td>\n",
       "      <td>WI_3</td>\n",
       "      <td>WI</td>\n",
       "      <td>d_1913</td>\n",
       "      <td>0</td>\n",
       "    </tr>\n",
       "  </tbody>\n",
       "</table>\n",
       "<p>58327370 rows × 8 columns</p>\n",
       "</div>"
      ],
      "text/plain": [
       "                                     id        item_id    dept_id   cat_id  \\\n",
       "0         HOBBIES_1_001_CA_1_validation  HOBBIES_1_001  HOBBIES_1  HOBBIES   \n",
       "1         HOBBIES_1_002_CA_1_validation  HOBBIES_1_002  HOBBIES_1  HOBBIES   \n",
       "2         HOBBIES_1_003_CA_1_validation  HOBBIES_1_003  HOBBIES_1  HOBBIES   \n",
       "3         HOBBIES_1_004_CA_1_validation  HOBBIES_1_004  HOBBIES_1  HOBBIES   \n",
       "4         HOBBIES_1_005_CA_1_validation  HOBBIES_1_005  HOBBIES_1  HOBBIES   \n",
       "...                                 ...            ...        ...      ...   \n",
       "58327365    FOODS_3_823_WI_3_validation    FOODS_3_823    FOODS_3    FOODS   \n",
       "58327366    FOODS_3_824_WI_3_validation    FOODS_3_824    FOODS_3    FOODS   \n",
       "58327367    FOODS_3_825_WI_3_validation    FOODS_3_825    FOODS_3    FOODS   \n",
       "58327368    FOODS_3_826_WI_3_validation    FOODS_3_826    FOODS_3    FOODS   \n",
       "58327369    FOODS_3_827_WI_3_validation    FOODS_3_827    FOODS_3    FOODS   \n",
       "\n",
       "         store_id state_id       d  sales  \n",
       "0            CA_1       CA     d_1      0  \n",
       "1            CA_1       CA     d_1      0  \n",
       "2            CA_1       CA     d_1      0  \n",
       "3            CA_1       CA     d_1      0  \n",
       "4            CA_1       CA     d_1      0  \n",
       "...           ...      ...     ...    ...  \n",
       "58327365     WI_3       WI  d_1913      1  \n",
       "58327366     WI_3       WI  d_1913      0  \n",
       "58327367     WI_3       WI  d_1913      0  \n",
       "58327368     WI_3       WI  d_1913      3  \n",
       "58327369     WI_3       WI  d_1913      0  \n",
       "\n",
       "[58327370 rows x 8 columns]"
      ]
     },
     "execution_count": 281,
     "metadata": {},
     "output_type": "execute_result"
    }
   ],
   "source": [
    "wide_to_long_dataframe = reduce_mem_usage(wide_to_long_dataframe)\n",
    "wide_to_long_dataframe"
   ]
  },
  {
   "cell_type": "code",
   "execution_count": 282,
   "id": "37c58fd0",
   "metadata": {},
   "outputs": [
    {
     "data": {
      "text/html": [
       "<div>\n",
       "<style scoped>\n",
       "    .dataframe tbody tr th:only-of-type {\n",
       "        vertical-align: middle;\n",
       "    }\n",
       "\n",
       "    .dataframe tbody tr th {\n",
       "        vertical-align: top;\n",
       "    }\n",
       "\n",
       "    .dataframe thead th {\n",
       "        text-align: right;\n",
       "    }\n",
       "</style>\n",
       "<table border=\"1\" class=\"dataframe\">\n",
       "  <thead>\n",
       "    <tr style=\"text-align: right;\">\n",
       "      <th></th>\n",
       "      <th>id</th>\n",
       "      <th>item_id</th>\n",
       "      <th>dept_id</th>\n",
       "      <th>cat_id</th>\n",
       "      <th>store_id</th>\n",
       "      <th>state_id</th>\n",
       "      <th>d</th>\n",
       "      <th>sales</th>\n",
       "      <th>date</th>\n",
       "      <th>wm_yr_wk</th>\n",
       "      <th>event_name_1</th>\n",
       "      <th>event_type_1</th>\n",
       "      <th>event_name_2</th>\n",
       "      <th>event_type_2</th>\n",
       "      <th>snap_CA</th>\n",
       "      <th>snap_TX</th>\n",
       "      <th>snap_WI</th>\n",
       "      <th>sell_price</th>\n",
       "    </tr>\n",
       "  </thead>\n",
       "  <tbody>\n",
       "    <tr>\n",
       "      <th>0</th>\n",
       "      <td>HOBBIES_1_001_CA_1_validation</td>\n",
       "      <td>HOBBIES_1_001</td>\n",
       "      <td>HOBBIES_1</td>\n",
       "      <td>HOBBIES</td>\n",
       "      <td>CA_1</td>\n",
       "      <td>CA</td>\n",
       "      <td>d_1</td>\n",
       "      <td>0</td>\n",
       "      <td>2011-01-29</td>\n",
       "      <td>11101</td>\n",
       "      <td>NaN</td>\n",
       "      <td>NaN</td>\n",
       "      <td>NaN</td>\n",
       "      <td>NaN</td>\n",
       "      <td>0</td>\n",
       "      <td>0</td>\n",
       "      <td>0</td>\n",
       "      <td>NaN</td>\n",
       "    </tr>\n",
       "    <tr>\n",
       "      <th>1</th>\n",
       "      <td>HOBBIES_1_002_CA_1_validation</td>\n",
       "      <td>HOBBIES_1_002</td>\n",
       "      <td>HOBBIES_1</td>\n",
       "      <td>HOBBIES</td>\n",
       "      <td>CA_1</td>\n",
       "      <td>CA</td>\n",
       "      <td>d_1</td>\n",
       "      <td>0</td>\n",
       "      <td>2011-01-29</td>\n",
       "      <td>11101</td>\n",
       "      <td>NaN</td>\n",
       "      <td>NaN</td>\n",
       "      <td>NaN</td>\n",
       "      <td>NaN</td>\n",
       "      <td>0</td>\n",
       "      <td>0</td>\n",
       "      <td>0</td>\n",
       "      <td>NaN</td>\n",
       "    </tr>\n",
       "    <tr>\n",
       "      <th>2</th>\n",
       "      <td>HOBBIES_1_003_CA_1_validation</td>\n",
       "      <td>HOBBIES_1_003</td>\n",
       "      <td>HOBBIES_1</td>\n",
       "      <td>HOBBIES</td>\n",
       "      <td>CA_1</td>\n",
       "      <td>CA</td>\n",
       "      <td>d_1</td>\n",
       "      <td>0</td>\n",
       "      <td>2011-01-29</td>\n",
       "      <td>11101</td>\n",
       "      <td>NaN</td>\n",
       "      <td>NaN</td>\n",
       "      <td>NaN</td>\n",
       "      <td>NaN</td>\n",
       "      <td>0</td>\n",
       "      <td>0</td>\n",
       "      <td>0</td>\n",
       "      <td>NaN</td>\n",
       "    </tr>\n",
       "    <tr>\n",
       "      <th>3</th>\n",
       "      <td>HOBBIES_1_004_CA_1_validation</td>\n",
       "      <td>HOBBIES_1_004</td>\n",
       "      <td>HOBBIES_1</td>\n",
       "      <td>HOBBIES</td>\n",
       "      <td>CA_1</td>\n",
       "      <td>CA</td>\n",
       "      <td>d_1</td>\n",
       "      <td>0</td>\n",
       "      <td>2011-01-29</td>\n",
       "      <td>11101</td>\n",
       "      <td>NaN</td>\n",
       "      <td>NaN</td>\n",
       "      <td>NaN</td>\n",
       "      <td>NaN</td>\n",
       "      <td>0</td>\n",
       "      <td>0</td>\n",
       "      <td>0</td>\n",
       "      <td>NaN</td>\n",
       "    </tr>\n",
       "    <tr>\n",
       "      <th>4</th>\n",
       "      <td>HOBBIES_1_005_CA_1_validation</td>\n",
       "      <td>HOBBIES_1_005</td>\n",
       "      <td>HOBBIES_1</td>\n",
       "      <td>HOBBIES</td>\n",
       "      <td>CA_1</td>\n",
       "      <td>CA</td>\n",
       "      <td>d_1</td>\n",
       "      <td>0</td>\n",
       "      <td>2011-01-29</td>\n",
       "      <td>11101</td>\n",
       "      <td>NaN</td>\n",
       "      <td>NaN</td>\n",
       "      <td>NaN</td>\n",
       "      <td>NaN</td>\n",
       "      <td>0</td>\n",
       "      <td>0</td>\n",
       "      <td>0</td>\n",
       "      <td>NaN</td>\n",
       "    </tr>\n",
       "    <tr>\n",
       "      <th>...</th>\n",
       "      <td>...</td>\n",
       "      <td>...</td>\n",
       "      <td>...</td>\n",
       "      <td>...</td>\n",
       "      <td>...</td>\n",
       "      <td>...</td>\n",
       "      <td>...</td>\n",
       "      <td>...</td>\n",
       "      <td>...</td>\n",
       "      <td>...</td>\n",
       "      <td>...</td>\n",
       "      <td>...</td>\n",
       "      <td>...</td>\n",
       "      <td>...</td>\n",
       "      <td>...</td>\n",
       "      <td>...</td>\n",
       "      <td>...</td>\n",
       "      <td>...</td>\n",
       "    </tr>\n",
       "    <tr>\n",
       "      <th>58327365</th>\n",
       "      <td>FOODS_3_823_WI_3_validation</td>\n",
       "      <td>FOODS_3_823</td>\n",
       "      <td>FOODS_3</td>\n",
       "      <td>FOODS</td>\n",
       "      <td>WI_3</td>\n",
       "      <td>WI</td>\n",
       "      <td>d_1913</td>\n",
       "      <td>1</td>\n",
       "      <td>2016-04-24</td>\n",
       "      <td>11613</td>\n",
       "      <td>NaN</td>\n",
       "      <td>NaN</td>\n",
       "      <td>NaN</td>\n",
       "      <td>NaN</td>\n",
       "      <td>0</td>\n",
       "      <td>0</td>\n",
       "      <td>0</td>\n",
       "      <td>2.98</td>\n",
       "    </tr>\n",
       "    <tr>\n",
       "      <th>58327366</th>\n",
       "      <td>FOODS_3_824_WI_3_validation</td>\n",
       "      <td>FOODS_3_824</td>\n",
       "      <td>FOODS_3</td>\n",
       "      <td>FOODS</td>\n",
       "      <td>WI_3</td>\n",
       "      <td>WI</td>\n",
       "      <td>d_1913</td>\n",
       "      <td>0</td>\n",
       "      <td>2016-04-24</td>\n",
       "      <td>11613</td>\n",
       "      <td>NaN</td>\n",
       "      <td>NaN</td>\n",
       "      <td>NaN</td>\n",
       "      <td>NaN</td>\n",
       "      <td>0</td>\n",
       "      <td>0</td>\n",
       "      <td>0</td>\n",
       "      <td>2.48</td>\n",
       "    </tr>\n",
       "    <tr>\n",
       "      <th>58327367</th>\n",
       "      <td>FOODS_3_825_WI_3_validation</td>\n",
       "      <td>FOODS_3_825</td>\n",
       "      <td>FOODS_3</td>\n",
       "      <td>FOODS</td>\n",
       "      <td>WI_3</td>\n",
       "      <td>WI</td>\n",
       "      <td>d_1913</td>\n",
       "      <td>0</td>\n",
       "      <td>2016-04-24</td>\n",
       "      <td>11613</td>\n",
       "      <td>NaN</td>\n",
       "      <td>NaN</td>\n",
       "      <td>NaN</td>\n",
       "      <td>NaN</td>\n",
       "      <td>0</td>\n",
       "      <td>0</td>\n",
       "      <td>0</td>\n",
       "      <td>3.98</td>\n",
       "    </tr>\n",
       "    <tr>\n",
       "      <th>58327368</th>\n",
       "      <td>FOODS_3_826_WI_3_validation</td>\n",
       "      <td>FOODS_3_826</td>\n",
       "      <td>FOODS_3</td>\n",
       "      <td>FOODS</td>\n",
       "      <td>WI_3</td>\n",
       "      <td>WI</td>\n",
       "      <td>d_1913</td>\n",
       "      <td>3</td>\n",
       "      <td>2016-04-24</td>\n",
       "      <td>11613</td>\n",
       "      <td>NaN</td>\n",
       "      <td>NaN</td>\n",
       "      <td>NaN</td>\n",
       "      <td>NaN</td>\n",
       "      <td>0</td>\n",
       "      <td>0</td>\n",
       "      <td>0</td>\n",
       "      <td>1.28</td>\n",
       "    </tr>\n",
       "    <tr>\n",
       "      <th>58327369</th>\n",
       "      <td>FOODS_3_827_WI_3_validation</td>\n",
       "      <td>FOODS_3_827</td>\n",
       "      <td>FOODS_3</td>\n",
       "      <td>FOODS</td>\n",
       "      <td>WI_3</td>\n",
       "      <td>WI</td>\n",
       "      <td>d_1913</td>\n",
       "      <td>0</td>\n",
       "      <td>2016-04-24</td>\n",
       "      <td>11613</td>\n",
       "      <td>NaN</td>\n",
       "      <td>NaN</td>\n",
       "      <td>NaN</td>\n",
       "      <td>NaN</td>\n",
       "      <td>0</td>\n",
       "      <td>0</td>\n",
       "      <td>0</td>\n",
       "      <td>1.00</td>\n",
       "    </tr>\n",
       "  </tbody>\n",
       "</table>\n",
       "<p>58327370 rows × 18 columns</p>\n",
       "</div>"
      ],
      "text/plain": [
       "                                     id        item_id    dept_id   cat_id  \\\n",
       "0         HOBBIES_1_001_CA_1_validation  HOBBIES_1_001  HOBBIES_1  HOBBIES   \n",
       "1         HOBBIES_1_002_CA_1_validation  HOBBIES_1_002  HOBBIES_1  HOBBIES   \n",
       "2         HOBBIES_1_003_CA_1_validation  HOBBIES_1_003  HOBBIES_1  HOBBIES   \n",
       "3         HOBBIES_1_004_CA_1_validation  HOBBIES_1_004  HOBBIES_1  HOBBIES   \n",
       "4         HOBBIES_1_005_CA_1_validation  HOBBIES_1_005  HOBBIES_1  HOBBIES   \n",
       "...                                 ...            ...        ...      ...   \n",
       "58327365    FOODS_3_823_WI_3_validation    FOODS_3_823    FOODS_3    FOODS   \n",
       "58327366    FOODS_3_824_WI_3_validation    FOODS_3_824    FOODS_3    FOODS   \n",
       "58327367    FOODS_3_825_WI_3_validation    FOODS_3_825    FOODS_3    FOODS   \n",
       "58327368    FOODS_3_826_WI_3_validation    FOODS_3_826    FOODS_3    FOODS   \n",
       "58327369    FOODS_3_827_WI_3_validation    FOODS_3_827    FOODS_3    FOODS   \n",
       "\n",
       "         store_id state_id       d  sales       date  wm_yr_wk event_name_1  \\\n",
       "0            CA_1       CA     d_1      0 2011-01-29     11101          NaN   \n",
       "1            CA_1       CA     d_1      0 2011-01-29     11101          NaN   \n",
       "2            CA_1       CA     d_1      0 2011-01-29     11101          NaN   \n",
       "3            CA_1       CA     d_1      0 2011-01-29     11101          NaN   \n",
       "4            CA_1       CA     d_1      0 2011-01-29     11101          NaN   \n",
       "...           ...      ...     ...    ...        ...       ...          ...   \n",
       "58327365     WI_3       WI  d_1913      1 2016-04-24     11613          NaN   \n",
       "58327366     WI_3       WI  d_1913      0 2016-04-24     11613          NaN   \n",
       "58327367     WI_3       WI  d_1913      0 2016-04-24     11613          NaN   \n",
       "58327368     WI_3       WI  d_1913      3 2016-04-24     11613          NaN   \n",
       "58327369     WI_3       WI  d_1913      0 2016-04-24     11613          NaN   \n",
       "\n",
       "         event_type_1 event_name_2 event_type_2  snap_CA  snap_TX  snap_WI  \\\n",
       "0                 NaN          NaN          NaN        0        0        0   \n",
       "1                 NaN          NaN          NaN        0        0        0   \n",
       "2                 NaN          NaN          NaN        0        0        0   \n",
       "3                 NaN          NaN          NaN        0        0        0   \n",
       "4                 NaN          NaN          NaN        0        0        0   \n",
       "...               ...          ...          ...      ...      ...      ...   \n",
       "58327365          NaN          NaN          NaN        0        0        0   \n",
       "58327366          NaN          NaN          NaN        0        0        0   \n",
       "58327367          NaN          NaN          NaN        0        0        0   \n",
       "58327368          NaN          NaN          NaN        0        0        0   \n",
       "58327369          NaN          NaN          NaN        0        0        0   \n",
       "\n",
       "          sell_price  \n",
       "0                NaN  \n",
       "1                NaN  \n",
       "2                NaN  \n",
       "3                NaN  \n",
       "4                NaN  \n",
       "...              ...  \n",
       "58327365        2.98  \n",
       "58327366        2.48  \n",
       "58327367        3.98  \n",
       "58327368        1.28  \n",
       "58327369        1.00  \n",
       "\n",
       "[58327370 rows x 18 columns]"
      ]
     },
     "execution_count": 282,
     "metadata": {},
     "output_type": "execute_result"
    }
   ],
   "source": [
    "#merge all 3 datasets to a single dataframe on \"d_\" (day number)\n",
    "\n",
    "final_df = pd.merge(wide_to_long_dataframe , cal, on='d', how='left')\n",
    "final_df = pd.merge(final_df, price, on=['store_id','item_id','wm_yr_wk'], how='left')\n",
    "\n",
    "final_df"
   ]
  },
  {
   "cell_type": "code",
   "execution_count": 283,
   "id": "705bfc99",
   "metadata": {},
   "outputs": [],
   "source": [
    "#fil the missing sell price values by mean imputaion\n",
    "final_df[\"sell_price\"].fillna(final_df.groupby(\"id\")[\"sell_price\"].transform(\"mean\"), inplace=True)\n"
   ]
  },
  {
   "cell_type": "code",
   "execution_count": 284,
   "id": "a79c2e6c",
   "metadata": {},
   "outputs": [
    {
     "data": {
      "text/html": [
       "<div>\n",
       "<style scoped>\n",
       "    .dataframe tbody tr th:only-of-type {\n",
       "        vertical-align: middle;\n",
       "    }\n",
       "\n",
       "    .dataframe tbody tr th {\n",
       "        vertical-align: top;\n",
       "    }\n",
       "\n",
       "    .dataframe thead th {\n",
       "        text-align: right;\n",
       "    }\n",
       "</style>\n",
       "<table border=\"1\" class=\"dataframe\">\n",
       "  <thead>\n",
       "    <tr style=\"text-align: right;\">\n",
       "      <th></th>\n",
       "      <th>id</th>\n",
       "      <th>item_id</th>\n",
       "      <th>dept_id</th>\n",
       "      <th>cat_id</th>\n",
       "      <th>store_id</th>\n",
       "      <th>state_id</th>\n",
       "      <th>d</th>\n",
       "      <th>sales</th>\n",
       "      <th>date</th>\n",
       "      <th>wm_yr_wk</th>\n",
       "      <th>event_name_1</th>\n",
       "      <th>event_type_1</th>\n",
       "      <th>event_name_2</th>\n",
       "      <th>event_type_2</th>\n",
       "      <th>snap_CA</th>\n",
       "      <th>snap_TX</th>\n",
       "      <th>snap_WI</th>\n",
       "      <th>sell_price</th>\n",
       "    </tr>\n",
       "  </thead>\n",
       "  <tbody>\n",
       "    <tr>\n",
       "      <th>0</th>\n",
       "      <td>HOBBIES_1_001_CA_1_validation</td>\n",
       "      <td>HOBBIES_1_001</td>\n",
       "      <td>HOBBIES_1</td>\n",
       "      <td>HOBBIES</td>\n",
       "      <td>CA_1</td>\n",
       "      <td>CA</td>\n",
       "      <td>d_1</td>\n",
       "      <td>0</td>\n",
       "      <td>2011-01-29</td>\n",
       "      <td>11101</td>\n",
       "      <td>NaN</td>\n",
       "      <td>NaN</td>\n",
       "      <td>NaN</td>\n",
       "      <td>NaN</td>\n",
       "      <td>0</td>\n",
       "      <td>0</td>\n",
       "      <td>0</td>\n",
       "      <td>8.280059</td>\n",
       "    </tr>\n",
       "    <tr>\n",
       "      <th>1</th>\n",
       "      <td>HOBBIES_1_002_CA_1_validation</td>\n",
       "      <td>HOBBIES_1_002</td>\n",
       "      <td>HOBBIES_1</td>\n",
       "      <td>HOBBIES</td>\n",
       "      <td>CA_1</td>\n",
       "      <td>CA</td>\n",
       "      <td>d_1</td>\n",
       "      <td>0</td>\n",
       "      <td>2011-01-29</td>\n",
       "      <td>11101</td>\n",
       "      <td>NaN</td>\n",
       "      <td>NaN</td>\n",
       "      <td>NaN</td>\n",
       "      <td>NaN</td>\n",
       "      <td>0</td>\n",
       "      <td>0</td>\n",
       "      <td>0</td>\n",
       "      <td>3.970000</td>\n",
       "    </tr>\n",
       "    <tr>\n",
       "      <th>2</th>\n",
       "      <td>HOBBIES_1_003_CA_1_validation</td>\n",
       "      <td>HOBBIES_1_003</td>\n",
       "      <td>HOBBIES_1</td>\n",
       "      <td>HOBBIES</td>\n",
       "      <td>CA_1</td>\n",
       "      <td>CA</td>\n",
       "      <td>d_1</td>\n",
       "      <td>0</td>\n",
       "      <td>2011-01-29</td>\n",
       "      <td>11101</td>\n",
       "      <td>NaN</td>\n",
       "      <td>NaN</td>\n",
       "      <td>NaN</td>\n",
       "      <td>NaN</td>\n",
       "      <td>0</td>\n",
       "      <td>0</td>\n",
       "      <td>0</td>\n",
       "      <td>2.970000</td>\n",
       "    </tr>\n",
       "    <tr>\n",
       "      <th>3</th>\n",
       "      <td>HOBBIES_1_004_CA_1_validation</td>\n",
       "      <td>HOBBIES_1_004</td>\n",
       "      <td>HOBBIES_1</td>\n",
       "      <td>HOBBIES</td>\n",
       "      <td>CA_1</td>\n",
       "      <td>CA</td>\n",
       "      <td>d_1</td>\n",
       "      <td>0</td>\n",
       "      <td>2011-01-29</td>\n",
       "      <td>11101</td>\n",
       "      <td>NaN</td>\n",
       "      <td>NaN</td>\n",
       "      <td>NaN</td>\n",
       "      <td>NaN</td>\n",
       "      <td>0</td>\n",
       "      <td>0</td>\n",
       "      <td>0</td>\n",
       "      <td>4.524824</td>\n",
       "    </tr>\n",
       "    <tr>\n",
       "      <th>4</th>\n",
       "      <td>HOBBIES_1_005_CA_1_validation</td>\n",
       "      <td>HOBBIES_1_005</td>\n",
       "      <td>HOBBIES_1</td>\n",
       "      <td>HOBBIES</td>\n",
       "      <td>CA_1</td>\n",
       "      <td>CA</td>\n",
       "      <td>d_1</td>\n",
       "      <td>0</td>\n",
       "      <td>2011-01-29</td>\n",
       "      <td>11101</td>\n",
       "      <td>NaN</td>\n",
       "      <td>NaN</td>\n",
       "      <td>NaN</td>\n",
       "      <td>NaN</td>\n",
       "      <td>0</td>\n",
       "      <td>0</td>\n",
       "      <td>0</td>\n",
       "      <td>2.942965</td>\n",
       "    </tr>\n",
       "    <tr>\n",
       "      <th>...</th>\n",
       "      <td>...</td>\n",
       "      <td>...</td>\n",
       "      <td>...</td>\n",
       "      <td>...</td>\n",
       "      <td>...</td>\n",
       "      <td>...</td>\n",
       "      <td>...</td>\n",
       "      <td>...</td>\n",
       "      <td>...</td>\n",
       "      <td>...</td>\n",
       "      <td>...</td>\n",
       "      <td>...</td>\n",
       "      <td>...</td>\n",
       "      <td>...</td>\n",
       "      <td>...</td>\n",
       "      <td>...</td>\n",
       "      <td>...</td>\n",
       "      <td>...</td>\n",
       "    </tr>\n",
       "    <tr>\n",
       "      <th>58327365</th>\n",
       "      <td>FOODS_3_823_WI_3_validation</td>\n",
       "      <td>FOODS_3_823</td>\n",
       "      <td>FOODS_3</td>\n",
       "      <td>FOODS</td>\n",
       "      <td>WI_3</td>\n",
       "      <td>WI</td>\n",
       "      <td>d_1913</td>\n",
       "      <td>1</td>\n",
       "      <td>2016-04-24</td>\n",
       "      <td>11613</td>\n",
       "      <td>NaN</td>\n",
       "      <td>NaN</td>\n",
       "      <td>NaN</td>\n",
       "      <td>NaN</td>\n",
       "      <td>0</td>\n",
       "      <td>0</td>\n",
       "      <td>0</td>\n",
       "      <td>2.980000</td>\n",
       "    </tr>\n",
       "    <tr>\n",
       "      <th>58327366</th>\n",
       "      <td>FOODS_3_824_WI_3_validation</td>\n",
       "      <td>FOODS_3_824</td>\n",
       "      <td>FOODS_3</td>\n",
       "      <td>FOODS</td>\n",
       "      <td>WI_3</td>\n",
       "      <td>WI</td>\n",
       "      <td>d_1913</td>\n",
       "      <td>0</td>\n",
       "      <td>2016-04-24</td>\n",
       "      <td>11613</td>\n",
       "      <td>NaN</td>\n",
       "      <td>NaN</td>\n",
       "      <td>NaN</td>\n",
       "      <td>NaN</td>\n",
       "      <td>0</td>\n",
       "      <td>0</td>\n",
       "      <td>0</td>\n",
       "      <td>2.480000</td>\n",
       "    </tr>\n",
       "    <tr>\n",
       "      <th>58327367</th>\n",
       "      <td>FOODS_3_825_WI_3_validation</td>\n",
       "      <td>FOODS_3_825</td>\n",
       "      <td>FOODS_3</td>\n",
       "      <td>FOODS</td>\n",
       "      <td>WI_3</td>\n",
       "      <td>WI</td>\n",
       "      <td>d_1913</td>\n",
       "      <td>0</td>\n",
       "      <td>2016-04-24</td>\n",
       "      <td>11613</td>\n",
       "      <td>NaN</td>\n",
       "      <td>NaN</td>\n",
       "      <td>NaN</td>\n",
       "      <td>NaN</td>\n",
       "      <td>0</td>\n",
       "      <td>0</td>\n",
       "      <td>0</td>\n",
       "      <td>3.980000</td>\n",
       "    </tr>\n",
       "    <tr>\n",
       "      <th>58327368</th>\n",
       "      <td>FOODS_3_826_WI_3_validation</td>\n",
       "      <td>FOODS_3_826</td>\n",
       "      <td>FOODS_3</td>\n",
       "      <td>FOODS</td>\n",
       "      <td>WI_3</td>\n",
       "      <td>WI</td>\n",
       "      <td>d_1913</td>\n",
       "      <td>3</td>\n",
       "      <td>2016-04-24</td>\n",
       "      <td>11613</td>\n",
       "      <td>NaN</td>\n",
       "      <td>NaN</td>\n",
       "      <td>NaN</td>\n",
       "      <td>NaN</td>\n",
       "      <td>0</td>\n",
       "      <td>0</td>\n",
       "      <td>0</td>\n",
       "      <td>1.280000</td>\n",
       "    </tr>\n",
       "    <tr>\n",
       "      <th>58327369</th>\n",
       "      <td>FOODS_3_827_WI_3_validation</td>\n",
       "      <td>FOODS_3_827</td>\n",
       "      <td>FOODS_3</td>\n",
       "      <td>FOODS</td>\n",
       "      <td>WI_3</td>\n",
       "      <td>WI</td>\n",
       "      <td>d_1913</td>\n",
       "      <td>0</td>\n",
       "      <td>2016-04-24</td>\n",
       "      <td>11613</td>\n",
       "      <td>NaN</td>\n",
       "      <td>NaN</td>\n",
       "      <td>NaN</td>\n",
       "      <td>NaN</td>\n",
       "      <td>0</td>\n",
       "      <td>0</td>\n",
       "      <td>0</td>\n",
       "      <td>1.000000</td>\n",
       "    </tr>\n",
       "  </tbody>\n",
       "</table>\n",
       "<p>58327370 rows × 18 columns</p>\n",
       "</div>"
      ],
      "text/plain": [
       "                                     id        item_id    dept_id   cat_id  \\\n",
       "0         HOBBIES_1_001_CA_1_validation  HOBBIES_1_001  HOBBIES_1  HOBBIES   \n",
       "1         HOBBIES_1_002_CA_1_validation  HOBBIES_1_002  HOBBIES_1  HOBBIES   \n",
       "2         HOBBIES_1_003_CA_1_validation  HOBBIES_1_003  HOBBIES_1  HOBBIES   \n",
       "3         HOBBIES_1_004_CA_1_validation  HOBBIES_1_004  HOBBIES_1  HOBBIES   \n",
       "4         HOBBIES_1_005_CA_1_validation  HOBBIES_1_005  HOBBIES_1  HOBBIES   \n",
       "...                                 ...            ...        ...      ...   \n",
       "58327365    FOODS_3_823_WI_3_validation    FOODS_3_823    FOODS_3    FOODS   \n",
       "58327366    FOODS_3_824_WI_3_validation    FOODS_3_824    FOODS_3    FOODS   \n",
       "58327367    FOODS_3_825_WI_3_validation    FOODS_3_825    FOODS_3    FOODS   \n",
       "58327368    FOODS_3_826_WI_3_validation    FOODS_3_826    FOODS_3    FOODS   \n",
       "58327369    FOODS_3_827_WI_3_validation    FOODS_3_827    FOODS_3    FOODS   \n",
       "\n",
       "         store_id state_id       d  sales       date  wm_yr_wk event_name_1  \\\n",
       "0            CA_1       CA     d_1      0 2011-01-29     11101          NaN   \n",
       "1            CA_1       CA     d_1      0 2011-01-29     11101          NaN   \n",
       "2            CA_1       CA     d_1      0 2011-01-29     11101          NaN   \n",
       "3            CA_1       CA     d_1      0 2011-01-29     11101          NaN   \n",
       "4            CA_1       CA     d_1      0 2011-01-29     11101          NaN   \n",
       "...           ...      ...     ...    ...        ...       ...          ...   \n",
       "58327365     WI_3       WI  d_1913      1 2016-04-24     11613          NaN   \n",
       "58327366     WI_3       WI  d_1913      0 2016-04-24     11613          NaN   \n",
       "58327367     WI_3       WI  d_1913      0 2016-04-24     11613          NaN   \n",
       "58327368     WI_3       WI  d_1913      3 2016-04-24     11613          NaN   \n",
       "58327369     WI_3       WI  d_1913      0 2016-04-24     11613          NaN   \n",
       "\n",
       "         event_type_1 event_name_2 event_type_2  snap_CA  snap_TX  snap_WI  \\\n",
       "0                 NaN          NaN          NaN        0        0        0   \n",
       "1                 NaN          NaN          NaN        0        0        0   \n",
       "2                 NaN          NaN          NaN        0        0        0   \n",
       "3                 NaN          NaN          NaN        0        0        0   \n",
       "4                 NaN          NaN          NaN        0        0        0   \n",
       "...               ...          ...          ...      ...      ...      ...   \n",
       "58327365          NaN          NaN          NaN        0        0        0   \n",
       "58327366          NaN          NaN          NaN        0        0        0   \n",
       "58327367          NaN          NaN          NaN        0        0        0   \n",
       "58327368          NaN          NaN          NaN        0        0        0   \n",
       "58327369          NaN          NaN          NaN        0        0        0   \n",
       "\n",
       "          sell_price  \n",
       "0           8.280059  \n",
       "1           3.970000  \n",
       "2           2.970000  \n",
       "3           4.524824  \n",
       "4           2.942965  \n",
       "...              ...  \n",
       "58327365    2.980000  \n",
       "58327366    2.480000  \n",
       "58327367    3.980000  \n",
       "58327368    1.280000  \n",
       "58327369    1.000000  \n",
       "\n",
       "[58327370 rows x 18 columns]"
      ]
     },
     "execution_count": 284,
     "metadata": {},
     "output_type": "execute_result"
    }
   ],
   "source": [
    "final_df"
   ]
  },
  {
   "cell_type": "code",
   "execution_count": null,
   "id": "98901d8c",
   "metadata": {},
   "outputs": [],
   "source": []
  }
 ],
 "metadata": {
  "kernelspec": {
   "display_name": "Python 3",
   "language": "python",
   "name": "python3"
  },
  "language_info": {
   "codemirror_mode": {
    "name": "ipython",
    "version": 3
   },
   "file_extension": ".py",
   "mimetype": "text/x-python",
   "name": "python",
   "nbconvert_exporter": "python",
   "pygments_lexer": "ipython3",
   "version": "3.8.3"
  }
 },
 "nbformat": 4,
 "nbformat_minor": 5
}
